{
 "cells": [
  {
   "cell_type": "code",
   "execution_count": null,
   "metadata": {
    "collapsed": true
   },
   "outputs": [],
   "source": []
  },
  {
   "cell_type": "code",
   "execution_count": 1,
   "outputs": [],
   "source": [
    "from IPython.display import display\n",
    "import numpy as np\n",
    "import pandas as pd"
   ],
   "metadata": {
    "collapsed": false
   }
  },
  {
   "cell_type": "code",
   "execution_count": 2,
   "outputs": [
    {
     "data": {
      "text/plain": "'1.5.3'"
     },
     "execution_count": 2,
     "metadata": {},
     "output_type": "execute_result"
    }
   ],
   "source": [
    "pd.__version__"
   ],
   "metadata": {
    "collapsed": false
   }
  },
  {
   "cell_type": "code",
   "execution_count": 4,
   "outputs": [
    {
     "name": "stderr",
     "output_type": "stream",
     "text": [
      "2023-01-24 12:26:42,270\tINFO worker.py:1538 -- Started a local Ray instance.\n"
     ]
    },
    {
     "data": {
      "text/plain": "RayContext(dashboard_url='', python_version='3.9.15', ray_version='2.2.0', ray_commit='b6af0887ee5f2e460202133791ad941a41f15beb', address_info={'node_ip_address': '127.0.0.1', 'raylet_ip_address': '127.0.0.1', 'redis_address': None, 'object_store_address': '/tmp/ray/session_2023-01-24_12-26-38_736881_79283/sockets/plasma_store', 'raylet_socket_name': '/tmp/ray/session_2023-01-24_12-26-38_736881_79283/sockets/raylet', 'webui_url': '', 'session_dir': '/tmp/ray/session_2023-01-24_12-26-38_736881_79283', 'metrics_export_port': 51670, 'gcs_address': '127.0.0.1:52432', 'address': '127.0.0.1:52432', 'dashboard_agent_listen_port': 52365, 'node_id': '67aec6f3d5a82f738b851f64e50a556ff828af7c6431b26d699b4ba7'})",
      "text/html": "<div>\n    <div style=\"margin-left: 50px;display: flex;flex-direction: row;align-items: center\">\n        <h3 style=\"color: var(--jp-ui-font-color0)\">Ray</h3>\n        <svg version=\"1.1\" id=\"ray\" width=\"3em\" viewBox=\"0 0 144.5 144.6\" style=\"margin-left: 3em;margin-right: 3em\">\n            <g id=\"layer-1\">\n                <path fill=\"#00a2e9\" class=\"st0\" d=\"M97.3,77.2c-3.8-1.1-6.2,0.9-8.3,5.1c-3.5,6.8-9.9,9.9-17.4,9.6S58,88.1,54.8,81.2c-1.4-3-3-4-6.3-4.1\n                    c-5.6-0.1-9.9,0.1-13.1,6.4c-3.8,7.6-13.6,10.2-21.8,7.6C5.2,88.4-0.4,80.5,0,71.7c0.1-8.4,5.7-15.8,13.8-18.2\n                    c8.4-2.6,17.5,0.7,22.3,8c1.3,1.9,1.3,5.2,3.6,5.6c3.9,0.6,8,0.2,12,0.2c1.8,0,1.9-1.6,2.4-2.8c3.5-7.8,9.7-11.8,18-11.9\n                    c8.2-0.1,14.4,3.9,17.8,11.4c1.3,2.8,2.9,3.6,5.7,3.3c1-0.1,2,0.1,3,0c2.8-0.5,6.4,1.7,8.1-2.7s-2.3-5.5-4.1-7.5\n                    c-5.1-5.7-10.9-10.8-16.1-16.3C84,38,81.9,37.1,78,38.3C66.7,42,56.2,35.7,53,24.1C50.3,14,57.3,2.8,67.7,0.5\n                    C78.4-2,89,4.7,91.5,15.3c0.1,0.3,0.1,0.5,0.2,0.8c0.7,3.4,0.7,6.9-0.8,9.8c-1.7,3.2-0.8,5,1.5,7.2c6.7,6.5,13.3,13,19.8,19.7\n                    c1.8,1.8,3,2.1,5.5,1.2c9.1-3.4,17.9-0.6,23.4,7c4.8,6.9,4.6,16.1-0.4,22.9c-5.4,7.2-14.2,9.9-23.1,6.5c-2.3-0.9-3.5-0.6-5.1,1.1\n                    c-6.7,6.9-13.6,13.7-20.5,20.4c-1.8,1.8-2.5,3.2-1.4,5.9c3.5,8.7,0.3,18.6-7.7,23.6c-7.9,5-18.2,3.8-24.8-2.9\n                    c-6.4-6.4-7.4-16.2-2.5-24.3c4.9-7.8,14.5-11,23.1-7.8c3,1.1,4.7,0.5,6.9-1.7C91.7,98.4,98,92.3,104.2,86c1.6-1.6,4.1-2.7,2.6-6.2\n                    c-1.4-3.3-3.8-2.5-6.2-2.6C99.8,77.2,98.9,77.2,97.3,77.2z M72.1,29.7c5.5,0.1,9.9-4.3,10-9.8c0-0.1,0-0.2,0-0.3\n                    C81.8,14,77,9.8,71.5,10.2c-5,0.3-9,4.2-9.3,9.2c-0.2,5.5,4,10.1,9.5,10.3C71.8,29.7,72,29.7,72.1,29.7z M72.3,62.3\n                    c-5.4-0.1-9.9,4.2-10.1,9.7c0,0.2,0,0.3,0,0.5c0.2,5.4,4.5,9.7,9.9,10c5.1,0.1,9.9-4.7,10.1-9.8c0.2-5.5-4-10-9.5-10.3\n                    C72.6,62.3,72.4,62.3,72.3,62.3z M115,72.5c0.1,5.4,4.5,9.7,9.8,9.9c5.6-0.2,10-4.8,10-10.4c-0.2-5.4-4.6-9.7-10-9.7\n                    c-5.3-0.1-9.8,4.2-9.9,9.5C115,72.1,115,72.3,115,72.5z M19.5,62.3c-5.4,0.1-9.8,4.4-10,9.8c-0.1,5.1,5.2,10.4,10.2,10.3\n                    c5.6-0.2,10-4.9,9.8-10.5c-0.1-5.4-4.5-9.7-9.9-9.6C19.6,62.3,19.5,62.3,19.5,62.3z M71.8,134.6c5.9,0.2,10.3-3.9,10.4-9.6\n                    c0.5-5.5-3.6-10.4-9.1-10.8c-5.5-0.5-10.4,3.6-10.8,9.1c0,0.5,0,0.9,0,1.4c-0.2,5.3,4,9.8,9.3,10\n                    C71.6,134.6,71.7,134.6,71.8,134.6z\"/>\n            </g>\n        </svg>\n        <table>\n            <tr>\n                <td style=\"text-align: left\"><b>Python version:</b></td>\n                <td style=\"text-align: left\"><b>3.9.15</b></td>\n            </tr>\n            <tr>\n                <td style=\"text-align: left\"><b>Ray version:</b></td>\n                <td style=\"text-align: left\"><b> 2.2.0</b></td>\n            </tr>\n            \n        </table>\n    </div>\n</div>\n"
     },
     "execution_count": 4,
     "metadata": {},
     "output_type": "execute_result"
    }
   ],
   "source": [
    "pd.options.display.min_rows = 20\n",
    "import ray\n",
    "ray.init()"
   ],
   "metadata": {
    "collapsed": false
   }
  },
  {
   "cell_type": "code",
   "execution_count": 5,
   "outputs": [
    {
     "name": "stderr",
     "output_type": "stream",
     "text": [
      "/var/folders/2n/21khb1913817b0mm8hcm8dp40000gn/T/ipykernel_79283/2919181868.py:1: DtypeWarning: Columns (68,70,71,72,73,74,76,79) have mixed types. Specify dtype option on import or set low_memory=False.\n",
      "  autos = pd.read_csv('https://github.com/mattharrison/datasets/raw/master/data/vehicles.csv.zip')\n"
     ]
    },
    {
     "data": {
      "text/plain": "       barrels08  barrelsA08  charge120  charge240  city08  city08U  cityA08  \\\n0      15.695714         0.0        0.0        0.0      19      0.0        0   \n1      29.964545         0.0        0.0        0.0       9      0.0        0   \n2      12.207778         0.0        0.0        0.0      23      0.0        0   \n3      29.964545         0.0        0.0        0.0      10      0.0        0   \n4      17.347895         0.0        0.0        0.0      17      0.0        0   \n5      14.982273         0.0        0.0        0.0      21      0.0        0   \n6      13.184400         0.0        0.0        0.0      22      0.0        0   \n7      13.733750         0.0        0.0        0.0      23      0.0        0   \n8      12.677308         0.0        0.0        0.0      23      0.0        0   \n9      13.184400         0.0        0.0        0.0      23      0.0        0   \n...          ...         ...        ...        ...     ...      ...      ...   \n41134  16.480500         0.0        0.0        0.0      18      0.0        0   \n41135  12.677308         0.0        0.0        0.0      23      0.0        0   \n41136  13.733750         0.0        0.0        0.0      21      0.0        0   \n41137  11.771786         0.0        0.0        0.0      24      0.0        0   \n41138  13.184400         0.0        0.0        0.0      21      0.0        0   \n41139  14.982273         0.0        0.0        0.0      19      0.0        0   \n41140  14.330870         0.0        0.0        0.0      20      0.0        0   \n41141  15.695714         0.0        0.0        0.0      18      0.0        0   \n41142  15.695714         0.0        0.0        0.0      18      0.0        0   \n41143  18.311667         0.0        0.0        0.0      16      0.0        0   \n\n       cityA08U  cityCD  cityE  ...  mfrCode  c240Dscr  charge240b  c240bDscr  \\\n0           0.0     0.0    0.0  ...      NaN       NaN         0.0        NaN   \n1           0.0     0.0    0.0  ...      NaN       NaN         0.0        NaN   \n2           0.0     0.0    0.0  ...      NaN       NaN         0.0        NaN   \n3           0.0     0.0    0.0  ...      NaN       NaN         0.0        NaN   \n4           0.0     0.0    0.0  ...      NaN       NaN         0.0        NaN   \n5           0.0     0.0    0.0  ...      NaN       NaN         0.0        NaN   \n6           0.0     0.0    0.0  ...      NaN       NaN         0.0        NaN   \n7           0.0     0.0    0.0  ...      NaN       NaN         0.0        NaN   \n8           0.0     0.0    0.0  ...      NaN       NaN         0.0        NaN   \n9           0.0     0.0    0.0  ...      NaN       NaN         0.0        NaN   \n...         ...     ...    ...  ...      ...       ...         ...        ...   \n41134       0.0     0.0    0.0  ...      NaN       NaN         0.0        NaN   \n41135       0.0     0.0    0.0  ...      NaN       NaN         0.0        NaN   \n41136       0.0     0.0    0.0  ...      NaN       NaN         0.0        NaN   \n41137       0.0     0.0    0.0  ...      NaN       NaN         0.0        NaN   \n41138       0.0     0.0    0.0  ...      NaN       NaN         0.0        NaN   \n41139       0.0     0.0    0.0  ...      NaN       NaN         0.0        NaN   \n41140       0.0     0.0    0.0  ...      NaN       NaN         0.0        NaN   \n41141       0.0     0.0    0.0  ...      NaN       NaN         0.0        NaN   \n41142       0.0     0.0    0.0  ...      NaN       NaN         0.0        NaN   \n41143       0.0     0.0    0.0  ...      NaN       NaN         0.0        NaN   \n\n                          createdOn                    modifiedOn  startStop  \\\n0      Tue Jan 01 00:00:00 EST 2013  Tue Jan 01 00:00:00 EST 2013        NaN   \n1      Tue Jan 01 00:00:00 EST 2013  Tue Jan 01 00:00:00 EST 2013        NaN   \n2      Tue Jan 01 00:00:00 EST 2013  Tue Jan 01 00:00:00 EST 2013        NaN   \n3      Tue Jan 01 00:00:00 EST 2013  Tue Jan 01 00:00:00 EST 2013        NaN   \n4      Tue Jan 01 00:00:00 EST 2013  Tue Jan 01 00:00:00 EST 2013        NaN   \n5      Tue Jan 01 00:00:00 EST 2013  Tue Jan 01 00:00:00 EST 2013        NaN   \n6      Tue Jan 01 00:00:00 EST 2013  Tue Jan 01 00:00:00 EST 2013        NaN   \n7      Tue Jan 01 00:00:00 EST 2013  Tue Jan 01 00:00:00 EST 2013        NaN   \n8      Tue Jan 01 00:00:00 EST 2013  Tue Jan 01 00:00:00 EST 2013        NaN   \n9      Tue Jan 01 00:00:00 EST 2013  Tue Jan 01 00:00:00 EST 2013        NaN   \n...                             ...                           ...        ...   \n41134  Tue Jan 01 00:00:00 EST 2013  Tue Jan 01 00:00:00 EST 2013        NaN   \n41135  Tue Jan 01 00:00:00 EST 2013  Tue Jan 01 00:00:00 EST 2013        NaN   \n41136  Tue Jan 01 00:00:00 EST 2013  Tue Jan 01 00:00:00 EST 2013        NaN   \n41137  Tue Jan 01 00:00:00 EST 2013  Tue Jan 01 00:00:00 EST 2013        NaN   \n41138  Tue Jan 01 00:00:00 EST 2013  Tue Jan 01 00:00:00 EST 2013        NaN   \n41139  Tue Jan 01 00:00:00 EST 2013  Tue Jan 01 00:00:00 EST 2013        NaN   \n41140  Tue Jan 01 00:00:00 EST 2013  Tue Jan 01 00:00:00 EST 2013        NaN   \n41141  Tue Jan 01 00:00:00 EST 2013  Tue Jan 01 00:00:00 EST 2013        NaN   \n41142  Tue Jan 01 00:00:00 EST 2013  Tue Jan 01 00:00:00 EST 2013        NaN   \n41143  Tue Jan 01 00:00:00 EST 2013  Tue Jan 01 00:00:00 EST 2013        NaN   \n\n       phevCity  phevHwy  phevComb  \n0             0        0         0  \n1             0        0         0  \n2             0        0         0  \n3             0        0         0  \n4             0        0         0  \n5             0        0         0  \n6             0        0         0  \n7             0        0         0  \n8             0        0         0  \n9             0        0         0  \n...         ...      ...       ...  \n41134         0        0         0  \n41135         0        0         0  \n41136         0        0         0  \n41137         0        0         0  \n41138         0        0         0  \n41139         0        0         0  \n41140         0        0         0  \n41141         0        0         0  \n41142         0        0         0  \n41143         0        0         0  \n\n[41144 rows x 83 columns]",
      "text/html": "<div>\n<style scoped>\n    .dataframe tbody tr th:only-of-type {\n        vertical-align: middle;\n    }\n\n    .dataframe tbody tr th {\n        vertical-align: top;\n    }\n\n    .dataframe thead th {\n        text-align: right;\n    }\n</style>\n<table border=\"1\" class=\"dataframe\">\n  <thead>\n    <tr style=\"text-align: right;\">\n      <th></th>\n      <th>barrels08</th>\n      <th>barrelsA08</th>\n      <th>charge120</th>\n      <th>charge240</th>\n      <th>city08</th>\n      <th>city08U</th>\n      <th>cityA08</th>\n      <th>cityA08U</th>\n      <th>cityCD</th>\n      <th>cityE</th>\n      <th>...</th>\n      <th>mfrCode</th>\n      <th>c240Dscr</th>\n      <th>charge240b</th>\n      <th>c240bDscr</th>\n      <th>createdOn</th>\n      <th>modifiedOn</th>\n      <th>startStop</th>\n      <th>phevCity</th>\n      <th>phevHwy</th>\n      <th>phevComb</th>\n    </tr>\n  </thead>\n  <tbody>\n    <tr>\n      <th>0</th>\n      <td>15.695714</td>\n      <td>0.0</td>\n      <td>0.0</td>\n      <td>0.0</td>\n      <td>19</td>\n      <td>0.0</td>\n      <td>0</td>\n      <td>0.0</td>\n      <td>0.0</td>\n      <td>0.0</td>\n      <td>...</td>\n      <td>NaN</td>\n      <td>NaN</td>\n      <td>0.0</td>\n      <td>NaN</td>\n      <td>Tue Jan 01 00:00:00 EST 2013</td>\n      <td>Tue Jan 01 00:00:00 EST 2013</td>\n      <td>NaN</td>\n      <td>0</td>\n      <td>0</td>\n      <td>0</td>\n    </tr>\n    <tr>\n      <th>1</th>\n      <td>29.964545</td>\n      <td>0.0</td>\n      <td>0.0</td>\n      <td>0.0</td>\n      <td>9</td>\n      <td>0.0</td>\n      <td>0</td>\n      <td>0.0</td>\n      <td>0.0</td>\n      <td>0.0</td>\n      <td>...</td>\n      <td>NaN</td>\n      <td>NaN</td>\n      <td>0.0</td>\n      <td>NaN</td>\n      <td>Tue Jan 01 00:00:00 EST 2013</td>\n      <td>Tue Jan 01 00:00:00 EST 2013</td>\n      <td>NaN</td>\n      <td>0</td>\n      <td>0</td>\n      <td>0</td>\n    </tr>\n    <tr>\n      <th>2</th>\n      <td>12.207778</td>\n      <td>0.0</td>\n      <td>0.0</td>\n      <td>0.0</td>\n      <td>23</td>\n      <td>0.0</td>\n      <td>0</td>\n      <td>0.0</td>\n      <td>0.0</td>\n      <td>0.0</td>\n      <td>...</td>\n      <td>NaN</td>\n      <td>NaN</td>\n      <td>0.0</td>\n      <td>NaN</td>\n      <td>Tue Jan 01 00:00:00 EST 2013</td>\n      <td>Tue Jan 01 00:00:00 EST 2013</td>\n      <td>NaN</td>\n      <td>0</td>\n      <td>0</td>\n      <td>0</td>\n    </tr>\n    <tr>\n      <th>3</th>\n      <td>29.964545</td>\n      <td>0.0</td>\n      <td>0.0</td>\n      <td>0.0</td>\n      <td>10</td>\n      <td>0.0</td>\n      <td>0</td>\n      <td>0.0</td>\n      <td>0.0</td>\n      <td>0.0</td>\n      <td>...</td>\n      <td>NaN</td>\n      <td>NaN</td>\n      <td>0.0</td>\n      <td>NaN</td>\n      <td>Tue Jan 01 00:00:00 EST 2013</td>\n      <td>Tue Jan 01 00:00:00 EST 2013</td>\n      <td>NaN</td>\n      <td>0</td>\n      <td>0</td>\n      <td>0</td>\n    </tr>\n    <tr>\n      <th>4</th>\n      <td>17.347895</td>\n      <td>0.0</td>\n      <td>0.0</td>\n      <td>0.0</td>\n      <td>17</td>\n      <td>0.0</td>\n      <td>0</td>\n      <td>0.0</td>\n      <td>0.0</td>\n      <td>0.0</td>\n      <td>...</td>\n      <td>NaN</td>\n      <td>NaN</td>\n      <td>0.0</td>\n      <td>NaN</td>\n      <td>Tue Jan 01 00:00:00 EST 2013</td>\n      <td>Tue Jan 01 00:00:00 EST 2013</td>\n      <td>NaN</td>\n      <td>0</td>\n      <td>0</td>\n      <td>0</td>\n    </tr>\n    <tr>\n      <th>5</th>\n      <td>14.982273</td>\n      <td>0.0</td>\n      <td>0.0</td>\n      <td>0.0</td>\n      <td>21</td>\n      <td>0.0</td>\n      <td>0</td>\n      <td>0.0</td>\n      <td>0.0</td>\n      <td>0.0</td>\n      <td>...</td>\n      <td>NaN</td>\n      <td>NaN</td>\n      <td>0.0</td>\n      <td>NaN</td>\n      <td>Tue Jan 01 00:00:00 EST 2013</td>\n      <td>Tue Jan 01 00:00:00 EST 2013</td>\n      <td>NaN</td>\n      <td>0</td>\n      <td>0</td>\n      <td>0</td>\n    </tr>\n    <tr>\n      <th>6</th>\n      <td>13.184400</td>\n      <td>0.0</td>\n      <td>0.0</td>\n      <td>0.0</td>\n      <td>22</td>\n      <td>0.0</td>\n      <td>0</td>\n      <td>0.0</td>\n      <td>0.0</td>\n      <td>0.0</td>\n      <td>...</td>\n      <td>NaN</td>\n      <td>NaN</td>\n      <td>0.0</td>\n      <td>NaN</td>\n      <td>Tue Jan 01 00:00:00 EST 2013</td>\n      <td>Tue Jan 01 00:00:00 EST 2013</td>\n      <td>NaN</td>\n      <td>0</td>\n      <td>0</td>\n      <td>0</td>\n    </tr>\n    <tr>\n      <th>7</th>\n      <td>13.733750</td>\n      <td>0.0</td>\n      <td>0.0</td>\n      <td>0.0</td>\n      <td>23</td>\n      <td>0.0</td>\n      <td>0</td>\n      <td>0.0</td>\n      <td>0.0</td>\n      <td>0.0</td>\n      <td>...</td>\n      <td>NaN</td>\n      <td>NaN</td>\n      <td>0.0</td>\n      <td>NaN</td>\n      <td>Tue Jan 01 00:00:00 EST 2013</td>\n      <td>Tue Jan 01 00:00:00 EST 2013</td>\n      <td>NaN</td>\n      <td>0</td>\n      <td>0</td>\n      <td>0</td>\n    </tr>\n    <tr>\n      <th>8</th>\n      <td>12.677308</td>\n      <td>0.0</td>\n      <td>0.0</td>\n      <td>0.0</td>\n      <td>23</td>\n      <td>0.0</td>\n      <td>0</td>\n      <td>0.0</td>\n      <td>0.0</td>\n      <td>0.0</td>\n      <td>...</td>\n      <td>NaN</td>\n      <td>NaN</td>\n      <td>0.0</td>\n      <td>NaN</td>\n      <td>Tue Jan 01 00:00:00 EST 2013</td>\n      <td>Tue Jan 01 00:00:00 EST 2013</td>\n      <td>NaN</td>\n      <td>0</td>\n      <td>0</td>\n      <td>0</td>\n    </tr>\n    <tr>\n      <th>9</th>\n      <td>13.184400</td>\n      <td>0.0</td>\n      <td>0.0</td>\n      <td>0.0</td>\n      <td>23</td>\n      <td>0.0</td>\n      <td>0</td>\n      <td>0.0</td>\n      <td>0.0</td>\n      <td>0.0</td>\n      <td>...</td>\n      <td>NaN</td>\n      <td>NaN</td>\n      <td>0.0</td>\n      <td>NaN</td>\n      <td>Tue Jan 01 00:00:00 EST 2013</td>\n      <td>Tue Jan 01 00:00:00 EST 2013</td>\n      <td>NaN</td>\n      <td>0</td>\n      <td>0</td>\n      <td>0</td>\n    </tr>\n    <tr>\n      <th>...</th>\n      <td>...</td>\n      <td>...</td>\n      <td>...</td>\n      <td>...</td>\n      <td>...</td>\n      <td>...</td>\n      <td>...</td>\n      <td>...</td>\n      <td>...</td>\n      <td>...</td>\n      <td>...</td>\n      <td>...</td>\n      <td>...</td>\n      <td>...</td>\n      <td>...</td>\n      <td>...</td>\n      <td>...</td>\n      <td>...</td>\n      <td>...</td>\n      <td>...</td>\n      <td>...</td>\n    </tr>\n    <tr>\n      <th>41134</th>\n      <td>16.480500</td>\n      <td>0.0</td>\n      <td>0.0</td>\n      <td>0.0</td>\n      <td>18</td>\n      <td>0.0</td>\n      <td>0</td>\n      <td>0.0</td>\n      <td>0.0</td>\n      <td>0.0</td>\n      <td>...</td>\n      <td>NaN</td>\n      <td>NaN</td>\n      <td>0.0</td>\n      <td>NaN</td>\n      <td>Tue Jan 01 00:00:00 EST 2013</td>\n      <td>Tue Jan 01 00:00:00 EST 2013</td>\n      <td>NaN</td>\n      <td>0</td>\n      <td>0</td>\n      <td>0</td>\n    </tr>\n    <tr>\n      <th>41135</th>\n      <td>12.677308</td>\n      <td>0.0</td>\n      <td>0.0</td>\n      <td>0.0</td>\n      <td>23</td>\n      <td>0.0</td>\n      <td>0</td>\n      <td>0.0</td>\n      <td>0.0</td>\n      <td>0.0</td>\n      <td>...</td>\n      <td>NaN</td>\n      <td>NaN</td>\n      <td>0.0</td>\n      <td>NaN</td>\n      <td>Tue Jan 01 00:00:00 EST 2013</td>\n      <td>Tue Jan 01 00:00:00 EST 2013</td>\n      <td>NaN</td>\n      <td>0</td>\n      <td>0</td>\n      <td>0</td>\n    </tr>\n    <tr>\n      <th>41136</th>\n      <td>13.733750</td>\n      <td>0.0</td>\n      <td>0.0</td>\n      <td>0.0</td>\n      <td>21</td>\n      <td>0.0</td>\n      <td>0</td>\n      <td>0.0</td>\n      <td>0.0</td>\n      <td>0.0</td>\n      <td>...</td>\n      <td>NaN</td>\n      <td>NaN</td>\n      <td>0.0</td>\n      <td>NaN</td>\n      <td>Tue Jan 01 00:00:00 EST 2013</td>\n      <td>Tue Jan 01 00:00:00 EST 2013</td>\n      <td>NaN</td>\n      <td>0</td>\n      <td>0</td>\n      <td>0</td>\n    </tr>\n    <tr>\n      <th>41137</th>\n      <td>11.771786</td>\n      <td>0.0</td>\n      <td>0.0</td>\n      <td>0.0</td>\n      <td>24</td>\n      <td>0.0</td>\n      <td>0</td>\n      <td>0.0</td>\n      <td>0.0</td>\n      <td>0.0</td>\n      <td>...</td>\n      <td>NaN</td>\n      <td>NaN</td>\n      <td>0.0</td>\n      <td>NaN</td>\n      <td>Tue Jan 01 00:00:00 EST 2013</td>\n      <td>Tue Jan 01 00:00:00 EST 2013</td>\n      <td>NaN</td>\n      <td>0</td>\n      <td>0</td>\n      <td>0</td>\n    </tr>\n    <tr>\n      <th>41138</th>\n      <td>13.184400</td>\n      <td>0.0</td>\n      <td>0.0</td>\n      <td>0.0</td>\n      <td>21</td>\n      <td>0.0</td>\n      <td>0</td>\n      <td>0.0</td>\n      <td>0.0</td>\n      <td>0.0</td>\n      <td>...</td>\n      <td>NaN</td>\n      <td>NaN</td>\n      <td>0.0</td>\n      <td>NaN</td>\n      <td>Tue Jan 01 00:00:00 EST 2013</td>\n      <td>Tue Jan 01 00:00:00 EST 2013</td>\n      <td>NaN</td>\n      <td>0</td>\n      <td>0</td>\n      <td>0</td>\n    </tr>\n    <tr>\n      <th>41139</th>\n      <td>14.982273</td>\n      <td>0.0</td>\n      <td>0.0</td>\n      <td>0.0</td>\n      <td>19</td>\n      <td>0.0</td>\n      <td>0</td>\n      <td>0.0</td>\n      <td>0.0</td>\n      <td>0.0</td>\n      <td>...</td>\n      <td>NaN</td>\n      <td>NaN</td>\n      <td>0.0</td>\n      <td>NaN</td>\n      <td>Tue Jan 01 00:00:00 EST 2013</td>\n      <td>Tue Jan 01 00:00:00 EST 2013</td>\n      <td>NaN</td>\n      <td>0</td>\n      <td>0</td>\n      <td>0</td>\n    </tr>\n    <tr>\n      <th>41140</th>\n      <td>14.330870</td>\n      <td>0.0</td>\n      <td>0.0</td>\n      <td>0.0</td>\n      <td>20</td>\n      <td>0.0</td>\n      <td>0</td>\n      <td>0.0</td>\n      <td>0.0</td>\n      <td>0.0</td>\n      <td>...</td>\n      <td>NaN</td>\n      <td>NaN</td>\n      <td>0.0</td>\n      <td>NaN</td>\n      <td>Tue Jan 01 00:00:00 EST 2013</td>\n      <td>Tue Jan 01 00:00:00 EST 2013</td>\n      <td>NaN</td>\n      <td>0</td>\n      <td>0</td>\n      <td>0</td>\n    </tr>\n    <tr>\n      <th>41141</th>\n      <td>15.695714</td>\n      <td>0.0</td>\n      <td>0.0</td>\n      <td>0.0</td>\n      <td>18</td>\n      <td>0.0</td>\n      <td>0</td>\n      <td>0.0</td>\n      <td>0.0</td>\n      <td>0.0</td>\n      <td>...</td>\n      <td>NaN</td>\n      <td>NaN</td>\n      <td>0.0</td>\n      <td>NaN</td>\n      <td>Tue Jan 01 00:00:00 EST 2013</td>\n      <td>Tue Jan 01 00:00:00 EST 2013</td>\n      <td>NaN</td>\n      <td>0</td>\n      <td>0</td>\n      <td>0</td>\n    </tr>\n    <tr>\n      <th>41142</th>\n      <td>15.695714</td>\n      <td>0.0</td>\n      <td>0.0</td>\n      <td>0.0</td>\n      <td>18</td>\n      <td>0.0</td>\n      <td>0</td>\n      <td>0.0</td>\n      <td>0.0</td>\n      <td>0.0</td>\n      <td>...</td>\n      <td>NaN</td>\n      <td>NaN</td>\n      <td>0.0</td>\n      <td>NaN</td>\n      <td>Tue Jan 01 00:00:00 EST 2013</td>\n      <td>Tue Jan 01 00:00:00 EST 2013</td>\n      <td>NaN</td>\n      <td>0</td>\n      <td>0</td>\n      <td>0</td>\n    </tr>\n    <tr>\n      <th>41143</th>\n      <td>18.311667</td>\n      <td>0.0</td>\n      <td>0.0</td>\n      <td>0.0</td>\n      <td>16</td>\n      <td>0.0</td>\n      <td>0</td>\n      <td>0.0</td>\n      <td>0.0</td>\n      <td>0.0</td>\n      <td>...</td>\n      <td>NaN</td>\n      <td>NaN</td>\n      <td>0.0</td>\n      <td>NaN</td>\n      <td>Tue Jan 01 00:00:00 EST 2013</td>\n      <td>Tue Jan 01 00:00:00 EST 2013</td>\n      <td>NaN</td>\n      <td>0</td>\n      <td>0</td>\n      <td>0</td>\n    </tr>\n  </tbody>\n</table>\n<p>41144 rows × 83 columns</p>\n</div>"
     },
     "execution_count": 5,
     "metadata": {},
     "output_type": "execute_result"
    }
   ],
   "source": [
    "autos = pd.read_csv('https://github.com/mattharrison/datasets/raw/master/data/vehicles.csv.zip')\n",
    "autos"
   ],
   "metadata": {
    "collapsed": false
   }
  },
  {
   "cell_type": "code",
   "execution_count": 6,
   "outputs": [
    {
     "data": {
      "text/plain": "Index(['barrels08', 'barrelsA08', 'charge120', 'charge240', 'city08',\n       'city08U', 'cityA08', 'cityA08U', 'cityCD', 'cityE', 'cityUF', 'co2',\n       'co2A', 'co2TailpipeAGpm', 'co2TailpipeGpm', 'comb08', 'comb08U',\n       'combA08', 'combA08U', 'combE', 'combinedCD', 'combinedUF', 'cylinders',\n       'displ', 'drive', 'engId', 'eng_dscr', 'feScore', 'fuelCost08',\n       'fuelCostA08', 'fuelType', 'fuelType1', 'ghgScore', 'ghgScoreA',\n       'highway08', 'highway08U', 'highwayA08', 'highwayA08U', 'highwayCD',\n       'highwayE', 'highwayUF', 'hlv', 'hpv', 'id', 'lv2', 'lv4', 'make',\n       'model', 'mpgData', 'phevBlended', 'pv2', 'pv4', 'range', 'rangeCity',\n       'rangeCityA', 'rangeHwy', 'rangeHwyA', 'trany', 'UCity', 'UCityA',\n       'UHighway', 'UHighwayA', 'VClass', 'year', 'youSaveSpend', 'guzzler',\n       'trans_dscr', 'tCharger', 'sCharger', 'atvType', 'fuelType2', 'rangeA',\n       'evMotor', 'mfrCode', 'c240Dscr', 'charge240b', 'c240bDscr',\n       'createdOn', 'modifiedOn', 'startStop', 'phevCity', 'phevHwy',\n       'phevComb'],\n      dtype='object')"
     },
     "execution_count": 6,
     "metadata": {},
     "output_type": "execute_result"
    }
   ],
   "source": [
    "autos.columns"
   ],
   "metadata": {
    "collapsed": false
   }
  },
  {
   "cell_type": "markdown",
   "source": [
    "Types - getting the correct types to enable analysis and correctness"
   ],
   "metadata": {
    "collapsed": false
   }
  },
  {
   "cell_type": "code",
   "execution_count": 15,
   "outputs": [
    {
     "data": {
      "text/plain": "19647323"
     },
     "execution_count": 15,
     "metadata": {},
     "output_type": "execute_result"
    }
   ],
   "source": [
    "cols = ['city08', 'comb08', 'highway08', 'cylinders', 'displ', 'drive', 'eng_dscr', 'fuelCost08', 'make', 'model', 'trany', 'range', 'createdOn', 'year']\n",
    "autos[cols].dtypes\n",
    "autos[cols].memory_usage(deep=True)\n",
    "autos[cols].memory_usage(deep=True).sum() #shows how much memory the dataset is using"
   ],
   "metadata": {
    "collapsed": false
   }
  },
  {
   "cell_type": "code",
   "execution_count": null,
   "outputs": [],
   "source": [],
   "metadata": {
    "collapsed": false
   }
  },
  {
   "cell_type": "markdown",
   "source": [
    "- Ints"
   ],
   "metadata": {
    "collapsed": false
   }
  },
  {
   "cell_type": "code",
   "execution_count": 8,
   "outputs": [
    {
     "data": {
      "text/plain": "             city08        comb08     highway08    fuelCost08         range  \\\ncount  41144.000000  41144.000000  41144.000000  41144.000000  41144.000000   \nmean      18.369045     20.616396     24.504667   2362.335942      0.793506   \nstd        7.905886      7.674535      7.730364    654.981925     13.041592   \nmin        6.000000      7.000000      9.000000    500.000000      0.000000   \n25%       15.000000     17.000000     20.000000   1900.000000      0.000000   \n50%       17.000000     20.000000     24.000000   2350.000000      0.000000   \n75%       20.000000     23.000000     28.000000   2700.000000      0.000000   \nmax      150.000000    136.000000    124.000000   7400.000000    370.000000   \n\n               year  \ncount  41144.000000  \nmean    2001.535266  \nstd       11.142414  \nmin     1984.000000  \n25%     1991.000000  \n50%     2002.000000  \n75%     2011.000000  \nmax     2020.000000  ",
      "text/html": "<div>\n<style scoped>\n    .dataframe tbody tr th:only-of-type {\n        vertical-align: middle;\n    }\n\n    .dataframe tbody tr th {\n        vertical-align: top;\n    }\n\n    .dataframe thead th {\n        text-align: right;\n    }\n</style>\n<table border=\"1\" class=\"dataframe\">\n  <thead>\n    <tr style=\"text-align: right;\">\n      <th></th>\n      <th>city08</th>\n      <th>comb08</th>\n      <th>highway08</th>\n      <th>fuelCost08</th>\n      <th>range</th>\n      <th>year</th>\n    </tr>\n  </thead>\n  <tbody>\n    <tr>\n      <th>count</th>\n      <td>41144.000000</td>\n      <td>41144.000000</td>\n      <td>41144.000000</td>\n      <td>41144.000000</td>\n      <td>41144.000000</td>\n      <td>41144.000000</td>\n    </tr>\n    <tr>\n      <th>mean</th>\n      <td>18.369045</td>\n      <td>20.616396</td>\n      <td>24.504667</td>\n      <td>2362.335942</td>\n      <td>0.793506</td>\n      <td>2001.535266</td>\n    </tr>\n    <tr>\n      <th>std</th>\n      <td>7.905886</td>\n      <td>7.674535</td>\n      <td>7.730364</td>\n      <td>654.981925</td>\n      <td>13.041592</td>\n      <td>11.142414</td>\n    </tr>\n    <tr>\n      <th>min</th>\n      <td>6.000000</td>\n      <td>7.000000</td>\n      <td>9.000000</td>\n      <td>500.000000</td>\n      <td>0.000000</td>\n      <td>1984.000000</td>\n    </tr>\n    <tr>\n      <th>25%</th>\n      <td>15.000000</td>\n      <td>17.000000</td>\n      <td>20.000000</td>\n      <td>1900.000000</td>\n      <td>0.000000</td>\n      <td>1991.000000</td>\n    </tr>\n    <tr>\n      <th>50%</th>\n      <td>17.000000</td>\n      <td>20.000000</td>\n      <td>24.000000</td>\n      <td>2350.000000</td>\n      <td>0.000000</td>\n      <td>2002.000000</td>\n    </tr>\n    <tr>\n      <th>75%</th>\n      <td>20.000000</td>\n      <td>23.000000</td>\n      <td>28.000000</td>\n      <td>2700.000000</td>\n      <td>0.000000</td>\n      <td>2011.000000</td>\n    </tr>\n    <tr>\n      <th>max</th>\n      <td>150.000000</td>\n      <td>136.000000</td>\n      <td>124.000000</td>\n      <td>7400.000000</td>\n      <td>370.000000</td>\n      <td>2020.000000</td>\n    </tr>\n  </tbody>\n</table>\n</div>"
     },
     "execution_count": 8,
     "metadata": {},
     "output_type": "execute_result"
    }
   ],
   "source": [
    "autos[cols].select_dtypes(int).describe()"
   ],
   "metadata": {
    "collapsed": false
   }
  },
  {
   "cell_type": "code",
   "execution_count": 9,
   "outputs": [
    {
     "data": {
      "text/plain": "city08          int64\ncomb08          int64\nhighway08       int64\ncylinders     float64\ndispl         float64\ndrive          object\neng_dscr       object\nfuelCost08      int64\nmake           object\nmodel          object\ntrany          object\nrange           int64\ncreatedOn      object\nyear            int64\ndtype: object"
     },
     "execution_count": 9,
     "metadata": {},
     "output_type": "execute_result"
    }
   ],
   "source": [
    "autos[cols].dtypes"
   ],
   "metadata": {
    "collapsed": false
   }
  },
  {
   "cell_type": "code",
   "execution_count": 10,
   "outputs": [
    {
     "data": {
      "text/plain": "             city08        comb08     highway08    fuelCost08         range  \\\ncount  41144.000000  41144.000000  41144.000000  41144.000000  41144.000000   \nmean      18.369045     20.616396     24.504667   2362.335942      0.793506   \nstd        7.905886      7.674535      7.730364    654.981925     13.041592   \nmin        6.000000      7.000000      9.000000    500.000000      0.000000   \n25%       15.000000     17.000000     20.000000   1900.000000      0.000000   \n50%       17.000000     20.000000     24.000000   2350.000000      0.000000   \n75%       20.000000     23.000000     28.000000   2700.000000      0.000000   \nmax      150.000000    136.000000    124.000000   7400.000000    370.000000   \n\n               year  \ncount  41144.000000  \nmean    2001.535266  \nstd       11.142414  \nmin     1984.000000  \n25%     1991.000000  \n50%     2002.000000  \n75%     2011.000000  \nmax     2020.000000  ",
      "text/html": "<div>\n<style scoped>\n    .dataframe tbody tr th:only-of-type {\n        vertical-align: middle;\n    }\n\n    .dataframe tbody tr th {\n        vertical-align: top;\n    }\n\n    .dataframe thead th {\n        text-align: right;\n    }\n</style>\n<table border=\"1\" class=\"dataframe\">\n  <thead>\n    <tr style=\"text-align: right;\">\n      <th></th>\n      <th>city08</th>\n      <th>comb08</th>\n      <th>highway08</th>\n      <th>fuelCost08</th>\n      <th>range</th>\n      <th>year</th>\n    </tr>\n  </thead>\n  <tbody>\n    <tr>\n      <th>count</th>\n      <td>41144.000000</td>\n      <td>41144.000000</td>\n      <td>41144.000000</td>\n      <td>41144.000000</td>\n      <td>41144.000000</td>\n      <td>41144.000000</td>\n    </tr>\n    <tr>\n      <th>mean</th>\n      <td>18.369045</td>\n      <td>20.616396</td>\n      <td>24.504667</td>\n      <td>2362.335942</td>\n      <td>0.793506</td>\n      <td>2001.535266</td>\n    </tr>\n    <tr>\n      <th>std</th>\n      <td>7.905886</td>\n      <td>7.674535</td>\n      <td>7.730364</td>\n      <td>654.981925</td>\n      <td>13.041592</td>\n      <td>11.142414</td>\n    </tr>\n    <tr>\n      <th>min</th>\n      <td>6.000000</td>\n      <td>7.000000</td>\n      <td>9.000000</td>\n      <td>500.000000</td>\n      <td>0.000000</td>\n      <td>1984.000000</td>\n    </tr>\n    <tr>\n      <th>25%</th>\n      <td>15.000000</td>\n      <td>17.000000</td>\n      <td>20.000000</td>\n      <td>1900.000000</td>\n      <td>0.000000</td>\n      <td>1991.000000</td>\n    </tr>\n    <tr>\n      <th>50%</th>\n      <td>17.000000</td>\n      <td>20.000000</td>\n      <td>24.000000</td>\n      <td>2350.000000</td>\n      <td>0.000000</td>\n      <td>2002.000000</td>\n    </tr>\n    <tr>\n      <th>75%</th>\n      <td>20.000000</td>\n      <td>23.000000</td>\n      <td>28.000000</td>\n      <td>2700.000000</td>\n      <td>0.000000</td>\n      <td>2011.000000</td>\n    </tr>\n    <tr>\n      <th>max</th>\n      <td>150.000000</td>\n      <td>136.000000</td>\n      <td>124.000000</td>\n      <td>7400.000000</td>\n      <td>370.000000</td>\n      <td>2020.000000</td>\n    </tr>\n  </tbody>\n</table>\n</div>"
     },
     "execution_count": 10,
     "metadata": {},
     "output_type": "execute_result"
    }
   ],
   "source": [
    "# chaining\n",
    "(autos\n",
    " [cols]\n",
    ".select_dtypes(int)\n",
    " .describe()\n",
    " )"
   ],
   "metadata": {
    "collapsed": false
   }
  },
  {
   "cell_type": "code",
   "execution_count": 11,
   "outputs": [
    {
     "data": {
      "text/plain": "iinfo(min=-128, max=127, dtype=int8)"
     },
     "execution_count": 11,
     "metadata": {},
     "output_type": "execute_result"
    }
   ],
   "source": [
    "# can comb08 be an int8?\n",
    "np.iinfo(np.int8)"
   ],
   "metadata": {
    "collapsed": false
   }
  },
  {
   "cell_type": "code",
   "execution_count": 12,
   "outputs": [
    {
     "data": {
      "text/plain": "iinfo(min=-32768, max=32767, dtype=int16)"
     },
     "execution_count": 12,
     "metadata": {},
     "output_type": "execute_result"
    }
   ],
   "source": [
    "np.iinfo(np.int16)"
   ],
   "metadata": {
    "collapsed": false
   }
  },
  {
   "cell_type": "code",
   "execution_count": 13,
   "outputs": [
    {
     "data": {
      "text/plain": "iinfo(min=-2147483648, max=2147483647, dtype=int32)"
     },
     "execution_count": 13,
     "metadata": {},
     "output_type": "execute_result"
    }
   ],
   "source": [
    "np.iinfo(np.int32)"
   ],
   "metadata": {
    "collapsed": false
   }
  },
  {
   "cell_type": "code",
   "execution_count": 14,
   "outputs": [
    {
     "data": {
      "text/plain": "iinfo(min=-9223372036854775808, max=9223372036854775807, dtype=int64)"
     },
     "execution_count": 14,
     "metadata": {},
     "output_type": "execute_result"
    }
   ],
   "source": [
    "np.iinfo(np.int64)"
   ],
   "metadata": {
    "collapsed": false
   }
  },
  {
   "cell_type": "code",
   "execution_count": 16,
   "outputs": [
    {
     "data": {
      "text/plain": "18124995"
     },
     "execution_count": 16,
     "metadata": {},
     "output_type": "execute_result"
    }
   ],
   "source": [
    "(autos\n",
    " [cols]\n",
    ".astype({'highway08': 'int8', 'city08': 'int16', 'comb08': 'int16', 'fuelCost08': 'int16', 'range': 'int16', 'year': 'int16'})\n",
    " .memory_usage(deep=True)\n",
    " .sum()\n",
    " )"
   ],
   "metadata": {
    "collapsed": false
   }
  },
  {
   "cell_type": "markdown",
   "source": [
    "Floats"
   ],
   "metadata": {
    "collapsed": false
   }
  },
  {
   "cell_type": "code",
   "execution_count": 18,
   "outputs": [
    {
     "data": {
      "text/plain": "       cylinders  displ\n0            4.0    2.0\n1           12.0    4.9\n2            4.0    2.2\n3            8.0    5.2\n4            4.0    2.2\n5            4.0    1.8\n6            4.0    1.8\n7            4.0    1.6\n8            4.0    1.6\n9            4.0    1.8\n...          ...    ...\n41134        4.0    2.1\n41135        4.0    1.9\n41136        4.0    1.9\n41137        4.0    1.9\n41138        4.0    1.9\n41139        4.0    2.2\n41140        4.0    2.2\n41141        4.0    2.2\n41142        4.0    2.2\n41143        4.0    2.2\n\n[41144 rows x 2 columns]",
      "text/html": "<div>\n<style scoped>\n    .dataframe tbody tr th:only-of-type {\n        vertical-align: middle;\n    }\n\n    .dataframe tbody tr th {\n        vertical-align: top;\n    }\n\n    .dataframe thead th {\n        text-align: right;\n    }\n</style>\n<table border=\"1\" class=\"dataframe\">\n  <thead>\n    <tr style=\"text-align: right;\">\n      <th></th>\n      <th>cylinders</th>\n      <th>displ</th>\n    </tr>\n  </thead>\n  <tbody>\n    <tr>\n      <th>0</th>\n      <td>4.0</td>\n      <td>2.0</td>\n    </tr>\n    <tr>\n      <th>1</th>\n      <td>12.0</td>\n      <td>4.9</td>\n    </tr>\n    <tr>\n      <th>2</th>\n      <td>4.0</td>\n      <td>2.2</td>\n    </tr>\n    <tr>\n      <th>3</th>\n      <td>8.0</td>\n      <td>5.2</td>\n    </tr>\n    <tr>\n      <th>4</th>\n      <td>4.0</td>\n      <td>2.2</td>\n    </tr>\n    <tr>\n      <th>5</th>\n      <td>4.0</td>\n      <td>1.8</td>\n    </tr>\n    <tr>\n      <th>6</th>\n      <td>4.0</td>\n      <td>1.8</td>\n    </tr>\n    <tr>\n      <th>7</th>\n      <td>4.0</td>\n      <td>1.6</td>\n    </tr>\n    <tr>\n      <th>8</th>\n      <td>4.0</td>\n      <td>1.6</td>\n    </tr>\n    <tr>\n      <th>9</th>\n      <td>4.0</td>\n      <td>1.8</td>\n    </tr>\n    <tr>\n      <th>...</th>\n      <td>...</td>\n      <td>...</td>\n    </tr>\n    <tr>\n      <th>41134</th>\n      <td>4.0</td>\n      <td>2.1</td>\n    </tr>\n    <tr>\n      <th>41135</th>\n      <td>4.0</td>\n      <td>1.9</td>\n    </tr>\n    <tr>\n      <th>41136</th>\n      <td>4.0</td>\n      <td>1.9</td>\n    </tr>\n    <tr>\n      <th>41137</th>\n      <td>4.0</td>\n      <td>1.9</td>\n    </tr>\n    <tr>\n      <th>41138</th>\n      <td>4.0</td>\n      <td>1.9</td>\n    </tr>\n    <tr>\n      <th>41139</th>\n      <td>4.0</td>\n      <td>2.2</td>\n    </tr>\n    <tr>\n      <th>41140</th>\n      <td>4.0</td>\n      <td>2.2</td>\n    </tr>\n    <tr>\n      <th>41141</th>\n      <td>4.0</td>\n      <td>2.2</td>\n    </tr>\n    <tr>\n      <th>41142</th>\n      <td>4.0</td>\n      <td>2.2</td>\n    </tr>\n    <tr>\n      <th>41143</th>\n      <td>4.0</td>\n      <td>2.2</td>\n    </tr>\n  </tbody>\n</table>\n<p>41144 rows × 2 columns</p>\n</div>"
     },
     "execution_count": 18,
     "metadata": {},
     "output_type": "execute_result"
    }
   ],
   "source": [
    "(autos\n",
    " [cols]\n",
    ".select_dtypes('float'))"
   ],
   "metadata": {
    "collapsed": false
   }
  },
  {
   "cell_type": "code",
   "execution_count": 19,
   "outputs": [
    {
     "data": {
      "text/plain": "count    40938.000000\nmean         5.717084\nstd          1.755517\nmin          2.000000\n25%          4.000000\n50%          6.000000\n75%          6.000000\nmax         16.000000\nName: cylinders, dtype: float64"
     },
     "execution_count": 19,
     "metadata": {},
     "output_type": "execute_result"
    }
   ],
   "source": [
    "autos.cylinders.describe()"
   ],
   "metadata": {
    "collapsed": false
   }
  },
  {
   "cell_type": "code",
   "execution_count": 20,
   "outputs": [
    {
     "data": {
      "text/plain": "4.0     15938\n6.0     14284\n8.0      8801\n5.0       771\n12.0      626\n3.0       279\nNaN       206\n10.0      170\n2.0        59\n16.0       10\nName: cylinders, dtype: int64"
     },
     "execution_count": 20,
     "metadata": {},
     "output_type": "execute_result"
    }
   ],
   "source": [
    "autos.cylinders.value_counts(dropna=False)"
   ],
   "metadata": {
    "collapsed": false
   }
  },
  {
   "cell_type": "code",
   "execution_count": 21,
   "outputs": [
    {
     "data": {
      "text/plain": "       city08  comb08  highway08  cylinders  displ              drive  \\\n7138       81      85         91        NaN    NaN                NaN   \n7139       81      72         64        NaN    NaN      2-Wheel Drive   \n8143       81      72         64        NaN    NaN      2-Wheel Drive   \n8144       74      65         58        NaN    NaN                NaN   \n8146       45      39         33        NaN    NaN      2-Wheel Drive   \n8147       84      75         66        NaN    NaN                NaN   \n9212       87      78         69        NaN    NaN      2-Wheel Drive   \n9213       45      39         33        NaN    NaN      2-Wheel Drive   \n10329      87      78         69        NaN    NaN      2-Wheel Drive   \n21413      22      24         28        NaN    NaN      4-Wheel Drive   \n...       ...     ...        ...        ...    ...                ...   \n34407      73      72         71        NaN    NaN  Front-Wheel Drive   \n34408     118     108         97        NaN    NaN  Front-Wheel Drive   \n34409     114     104         94        NaN    NaN  Front-Wheel Drive   \n34538      74      74         73        NaN    NaN    All-Wheel Drive   \n34561      80      76         72        NaN    NaN      4-Wheel Drive   \n34563     138     131        124        NaN    NaN   Rear-Wheel Drive   \n34564     140     133        124        NaN    NaN   Rear-Wheel Drive   \n34565     115     111        107        NaN    NaN    All-Wheel Drive   \n34566     104     104        104        NaN    NaN    All-Wheel Drive   \n34567      98      97         96        NaN    NaN    All-Wheel Drive   \n\n      eng_dscr  fuelCost08    make                               model  \\\n7138       NaN         800  Nissan                            Altra EV   \n7139       NaN         900  Toyota                             RAV4 EV   \n8143       NaN         900  Toyota                             RAV4 EV   \n8144       NaN        1000    Ford                               Th!nk   \n8146       NaN        1700    Ford              Explorer USPS Electric   \n8147       NaN         900  Nissan                          Hyper-Mini   \n9212       NaN         850  Toyota                             RAV4 EV   \n9213       NaN        1700    Ford              Explorer USPS Electric   \n10329      NaN         850  Toyota                             RAV4 EV   \n21413      NaN        1750  Subaru                            RX Turbo   \n...        ...         ...     ...                                 ...   \n34407      NaN         900     BYD                                  e6   \n34408      NaN         600  Nissan        Leaf (62 kW-hr battery pack)   \n34409      NaN         650  Nissan  Leaf SV/SL (62 kW-hr battery pack)   \n34538      NaN         900    Audi                              e-tron   \n34561      NaN         850  Jaguar                              I-Pace   \n34563      NaN         500   Tesla              Model 3 Standard Range   \n34564      NaN         500   Tesla         Model 3 Standard Range Plus   \n34565      NaN         600   Tesla                  Model S Long Range   \n34566      NaN         650   Tesla    Model S Performance (19\" Wheels)   \n34567      NaN         700   Tesla    Model S Performance (21\" Wheels)   \n\n                trany  range                     createdOn  year  \n7138              NaN     90  Tue Jan 01 00:00:00 EST 2013  2000  \n7139              NaN     88  Tue Jan 01 00:00:00 EST 2013  2000  \n8143              NaN     88  Tue Jan 01 00:00:00 EST 2013  2001  \n8144              NaN     29  Tue Jan 01 00:00:00 EST 2013  2001  \n8146              NaN     38  Tue Jan 01 00:00:00 EST 2013  2001  \n8147              NaN     33  Tue Jan 01 00:00:00 EST 2013  2001  \n9212              NaN     95  Tue Jan 01 00:00:00 EST 2013  2002  \n9213              NaN     38  Tue Jan 01 00:00:00 EST 2013  2002  \n10329             NaN     95  Tue Jan 01 00:00:00 EST 2013  2003  \n21413    Manual 5-spd      0  Tue Jan 01 00:00:00 EST 2013  1985  \n...               ...    ...                           ...   ...  \n34407  Automatic (A1)    187  Wed Mar 13 00:00:00 EDT 2019  2019  \n34408  Automatic (A1)    226  Wed Mar 13 00:00:00 EDT 2019  2019  \n34409  Automatic (A1)    215  Wed Mar 13 00:00:00 EDT 2019  2019  \n34538  Automatic (A1)    204  Tue Apr 16 00:00:00 EDT 2019  2019  \n34561  Automatic (A1)    234  Thu May 02 00:00:00 EDT 2019  2020  \n34563  Automatic (A1)    220  Thu May 02 00:00:00 EDT 2019  2019  \n34564  Automatic (A1)    240  Thu May 02 00:00:00 EDT 2019  2019  \n34565  Automatic (A1)    370  Thu May 02 00:00:00 EDT 2019  2019  \n34566  Automatic (A1)    345  Thu May 02 00:00:00 EDT 2019  2019  \n34567  Automatic (A1)    325  Thu May 02 00:00:00 EDT 2019  2019  \n\n[206 rows x 14 columns]",
      "text/html": "<div>\n<style scoped>\n    .dataframe tbody tr th:only-of-type {\n        vertical-align: middle;\n    }\n\n    .dataframe tbody tr th {\n        vertical-align: top;\n    }\n\n    .dataframe thead th {\n        text-align: right;\n    }\n</style>\n<table border=\"1\" class=\"dataframe\">\n  <thead>\n    <tr style=\"text-align: right;\">\n      <th></th>\n      <th>city08</th>\n      <th>comb08</th>\n      <th>highway08</th>\n      <th>cylinders</th>\n      <th>displ</th>\n      <th>drive</th>\n      <th>eng_dscr</th>\n      <th>fuelCost08</th>\n      <th>make</th>\n      <th>model</th>\n      <th>trany</th>\n      <th>range</th>\n      <th>createdOn</th>\n      <th>year</th>\n    </tr>\n  </thead>\n  <tbody>\n    <tr>\n      <th>7138</th>\n      <td>81</td>\n      <td>85</td>\n      <td>91</td>\n      <td>NaN</td>\n      <td>NaN</td>\n      <td>NaN</td>\n      <td>NaN</td>\n      <td>800</td>\n      <td>Nissan</td>\n      <td>Altra EV</td>\n      <td>NaN</td>\n      <td>90</td>\n      <td>Tue Jan 01 00:00:00 EST 2013</td>\n      <td>2000</td>\n    </tr>\n    <tr>\n      <th>7139</th>\n      <td>81</td>\n      <td>72</td>\n      <td>64</td>\n      <td>NaN</td>\n      <td>NaN</td>\n      <td>2-Wheel Drive</td>\n      <td>NaN</td>\n      <td>900</td>\n      <td>Toyota</td>\n      <td>RAV4 EV</td>\n      <td>NaN</td>\n      <td>88</td>\n      <td>Tue Jan 01 00:00:00 EST 2013</td>\n      <td>2000</td>\n    </tr>\n    <tr>\n      <th>8143</th>\n      <td>81</td>\n      <td>72</td>\n      <td>64</td>\n      <td>NaN</td>\n      <td>NaN</td>\n      <td>2-Wheel Drive</td>\n      <td>NaN</td>\n      <td>900</td>\n      <td>Toyota</td>\n      <td>RAV4 EV</td>\n      <td>NaN</td>\n      <td>88</td>\n      <td>Tue Jan 01 00:00:00 EST 2013</td>\n      <td>2001</td>\n    </tr>\n    <tr>\n      <th>8144</th>\n      <td>74</td>\n      <td>65</td>\n      <td>58</td>\n      <td>NaN</td>\n      <td>NaN</td>\n      <td>NaN</td>\n      <td>NaN</td>\n      <td>1000</td>\n      <td>Ford</td>\n      <td>Th!nk</td>\n      <td>NaN</td>\n      <td>29</td>\n      <td>Tue Jan 01 00:00:00 EST 2013</td>\n      <td>2001</td>\n    </tr>\n    <tr>\n      <th>8146</th>\n      <td>45</td>\n      <td>39</td>\n      <td>33</td>\n      <td>NaN</td>\n      <td>NaN</td>\n      <td>2-Wheel Drive</td>\n      <td>NaN</td>\n      <td>1700</td>\n      <td>Ford</td>\n      <td>Explorer USPS Electric</td>\n      <td>NaN</td>\n      <td>38</td>\n      <td>Tue Jan 01 00:00:00 EST 2013</td>\n      <td>2001</td>\n    </tr>\n    <tr>\n      <th>8147</th>\n      <td>84</td>\n      <td>75</td>\n      <td>66</td>\n      <td>NaN</td>\n      <td>NaN</td>\n      <td>NaN</td>\n      <td>NaN</td>\n      <td>900</td>\n      <td>Nissan</td>\n      <td>Hyper-Mini</td>\n      <td>NaN</td>\n      <td>33</td>\n      <td>Tue Jan 01 00:00:00 EST 2013</td>\n      <td>2001</td>\n    </tr>\n    <tr>\n      <th>9212</th>\n      <td>87</td>\n      <td>78</td>\n      <td>69</td>\n      <td>NaN</td>\n      <td>NaN</td>\n      <td>2-Wheel Drive</td>\n      <td>NaN</td>\n      <td>850</td>\n      <td>Toyota</td>\n      <td>RAV4 EV</td>\n      <td>NaN</td>\n      <td>95</td>\n      <td>Tue Jan 01 00:00:00 EST 2013</td>\n      <td>2002</td>\n    </tr>\n    <tr>\n      <th>9213</th>\n      <td>45</td>\n      <td>39</td>\n      <td>33</td>\n      <td>NaN</td>\n      <td>NaN</td>\n      <td>2-Wheel Drive</td>\n      <td>NaN</td>\n      <td>1700</td>\n      <td>Ford</td>\n      <td>Explorer USPS Electric</td>\n      <td>NaN</td>\n      <td>38</td>\n      <td>Tue Jan 01 00:00:00 EST 2013</td>\n      <td>2002</td>\n    </tr>\n    <tr>\n      <th>10329</th>\n      <td>87</td>\n      <td>78</td>\n      <td>69</td>\n      <td>NaN</td>\n      <td>NaN</td>\n      <td>2-Wheel Drive</td>\n      <td>NaN</td>\n      <td>850</td>\n      <td>Toyota</td>\n      <td>RAV4 EV</td>\n      <td>NaN</td>\n      <td>95</td>\n      <td>Tue Jan 01 00:00:00 EST 2013</td>\n      <td>2003</td>\n    </tr>\n    <tr>\n      <th>21413</th>\n      <td>22</td>\n      <td>24</td>\n      <td>28</td>\n      <td>NaN</td>\n      <td>NaN</td>\n      <td>4-Wheel Drive</td>\n      <td>NaN</td>\n      <td>1750</td>\n      <td>Subaru</td>\n      <td>RX Turbo</td>\n      <td>Manual 5-spd</td>\n      <td>0</td>\n      <td>Tue Jan 01 00:00:00 EST 2013</td>\n      <td>1985</td>\n    </tr>\n    <tr>\n      <th>...</th>\n      <td>...</td>\n      <td>...</td>\n      <td>...</td>\n      <td>...</td>\n      <td>...</td>\n      <td>...</td>\n      <td>...</td>\n      <td>...</td>\n      <td>...</td>\n      <td>...</td>\n      <td>...</td>\n      <td>...</td>\n      <td>...</td>\n      <td>...</td>\n    </tr>\n    <tr>\n      <th>34407</th>\n      <td>73</td>\n      <td>72</td>\n      <td>71</td>\n      <td>NaN</td>\n      <td>NaN</td>\n      <td>Front-Wheel Drive</td>\n      <td>NaN</td>\n      <td>900</td>\n      <td>BYD</td>\n      <td>e6</td>\n      <td>Automatic (A1)</td>\n      <td>187</td>\n      <td>Wed Mar 13 00:00:00 EDT 2019</td>\n      <td>2019</td>\n    </tr>\n    <tr>\n      <th>34408</th>\n      <td>118</td>\n      <td>108</td>\n      <td>97</td>\n      <td>NaN</td>\n      <td>NaN</td>\n      <td>Front-Wheel Drive</td>\n      <td>NaN</td>\n      <td>600</td>\n      <td>Nissan</td>\n      <td>Leaf (62 kW-hr battery pack)</td>\n      <td>Automatic (A1)</td>\n      <td>226</td>\n      <td>Wed Mar 13 00:00:00 EDT 2019</td>\n      <td>2019</td>\n    </tr>\n    <tr>\n      <th>34409</th>\n      <td>114</td>\n      <td>104</td>\n      <td>94</td>\n      <td>NaN</td>\n      <td>NaN</td>\n      <td>Front-Wheel Drive</td>\n      <td>NaN</td>\n      <td>650</td>\n      <td>Nissan</td>\n      <td>Leaf SV/SL (62 kW-hr battery pack)</td>\n      <td>Automatic (A1)</td>\n      <td>215</td>\n      <td>Wed Mar 13 00:00:00 EDT 2019</td>\n      <td>2019</td>\n    </tr>\n    <tr>\n      <th>34538</th>\n      <td>74</td>\n      <td>74</td>\n      <td>73</td>\n      <td>NaN</td>\n      <td>NaN</td>\n      <td>All-Wheel Drive</td>\n      <td>NaN</td>\n      <td>900</td>\n      <td>Audi</td>\n      <td>e-tron</td>\n      <td>Automatic (A1)</td>\n      <td>204</td>\n      <td>Tue Apr 16 00:00:00 EDT 2019</td>\n      <td>2019</td>\n    </tr>\n    <tr>\n      <th>34561</th>\n      <td>80</td>\n      <td>76</td>\n      <td>72</td>\n      <td>NaN</td>\n      <td>NaN</td>\n      <td>4-Wheel Drive</td>\n      <td>NaN</td>\n      <td>850</td>\n      <td>Jaguar</td>\n      <td>I-Pace</td>\n      <td>Automatic (A1)</td>\n      <td>234</td>\n      <td>Thu May 02 00:00:00 EDT 2019</td>\n      <td>2020</td>\n    </tr>\n    <tr>\n      <th>34563</th>\n      <td>138</td>\n      <td>131</td>\n      <td>124</td>\n      <td>NaN</td>\n      <td>NaN</td>\n      <td>Rear-Wheel Drive</td>\n      <td>NaN</td>\n      <td>500</td>\n      <td>Tesla</td>\n      <td>Model 3 Standard Range</td>\n      <td>Automatic (A1)</td>\n      <td>220</td>\n      <td>Thu May 02 00:00:00 EDT 2019</td>\n      <td>2019</td>\n    </tr>\n    <tr>\n      <th>34564</th>\n      <td>140</td>\n      <td>133</td>\n      <td>124</td>\n      <td>NaN</td>\n      <td>NaN</td>\n      <td>Rear-Wheel Drive</td>\n      <td>NaN</td>\n      <td>500</td>\n      <td>Tesla</td>\n      <td>Model 3 Standard Range Plus</td>\n      <td>Automatic (A1)</td>\n      <td>240</td>\n      <td>Thu May 02 00:00:00 EDT 2019</td>\n      <td>2019</td>\n    </tr>\n    <tr>\n      <th>34565</th>\n      <td>115</td>\n      <td>111</td>\n      <td>107</td>\n      <td>NaN</td>\n      <td>NaN</td>\n      <td>All-Wheel Drive</td>\n      <td>NaN</td>\n      <td>600</td>\n      <td>Tesla</td>\n      <td>Model S Long Range</td>\n      <td>Automatic (A1)</td>\n      <td>370</td>\n      <td>Thu May 02 00:00:00 EDT 2019</td>\n      <td>2019</td>\n    </tr>\n    <tr>\n      <th>34566</th>\n      <td>104</td>\n      <td>104</td>\n      <td>104</td>\n      <td>NaN</td>\n      <td>NaN</td>\n      <td>All-Wheel Drive</td>\n      <td>NaN</td>\n      <td>650</td>\n      <td>Tesla</td>\n      <td>Model S Performance (19\" Wheels)</td>\n      <td>Automatic (A1)</td>\n      <td>345</td>\n      <td>Thu May 02 00:00:00 EDT 2019</td>\n      <td>2019</td>\n    </tr>\n    <tr>\n      <th>34567</th>\n      <td>98</td>\n      <td>97</td>\n      <td>96</td>\n      <td>NaN</td>\n      <td>NaN</td>\n      <td>All-Wheel Drive</td>\n      <td>NaN</td>\n      <td>700</td>\n      <td>Tesla</td>\n      <td>Model S Performance (21\" Wheels)</td>\n      <td>Automatic (A1)</td>\n      <td>325</td>\n      <td>Thu May 02 00:00:00 EDT 2019</td>\n      <td>2019</td>\n    </tr>\n  </tbody>\n</table>\n<p>206 rows × 14 columns</p>\n</div>"
     },
     "execution_count": 21,
     "metadata": {},
     "output_type": "execute_result"
    }
   ],
   "source": [
    "(autos\n",
    " [cols]\n",
    ".query('cylinders.isna()')\n",
    " )"
   ],
   "metadata": {
    "collapsed": false
   }
  },
  {
   "cell_type": "code",
   "execution_count": 22,
   "outputs": [
    {
     "data": {
      "text/plain": "             city08        comb08     highway08     cylinders         displ  \\\ncount  41144.000000  41144.000000  41144.000000  41144.000000  41144.000000   \nmean      18.369045     20.616396     24.504667      5.688460      3.277904   \nstd        7.905886      7.674535      7.730364      1.797009      1.373415   \nmin        6.000000      7.000000      9.000000      0.000000      0.000000   \n25%       15.000000     17.000000     20.000000      4.000000      2.200000   \n50%       17.000000     20.000000     24.000000      6.000000      3.000000   \n75%       20.000000     23.000000     28.000000      6.000000      4.300000   \nmax      150.000000    136.000000    124.000000     16.000000      8.400000   \n\n         fuelCost08         range          year  \ncount  41144.000000  41144.000000  41144.000000  \nmean    2362.335942      0.793506   2001.535266  \nstd      654.981925     13.041592     11.142414  \nmin      500.000000      0.000000   1984.000000  \n25%     1900.000000      0.000000   1991.000000  \n50%     2350.000000      0.000000   2002.000000  \n75%     2700.000000      0.000000   2011.000000  \nmax     7400.000000    370.000000   2020.000000  ",
      "text/html": "<div>\n<style scoped>\n    .dataframe tbody tr th:only-of-type {\n        vertical-align: middle;\n    }\n\n    .dataframe tbody tr th {\n        vertical-align: top;\n    }\n\n    .dataframe thead th {\n        text-align: right;\n    }\n</style>\n<table border=\"1\" class=\"dataframe\">\n  <thead>\n    <tr style=\"text-align: right;\">\n      <th></th>\n      <th>city08</th>\n      <th>comb08</th>\n      <th>highway08</th>\n      <th>cylinders</th>\n      <th>displ</th>\n      <th>fuelCost08</th>\n      <th>range</th>\n      <th>year</th>\n    </tr>\n  </thead>\n  <tbody>\n    <tr>\n      <th>count</th>\n      <td>41144.000000</td>\n      <td>41144.000000</td>\n      <td>41144.000000</td>\n      <td>41144.000000</td>\n      <td>41144.000000</td>\n      <td>41144.000000</td>\n      <td>41144.000000</td>\n      <td>41144.000000</td>\n    </tr>\n    <tr>\n      <th>mean</th>\n      <td>18.369045</td>\n      <td>20.616396</td>\n      <td>24.504667</td>\n      <td>5.688460</td>\n      <td>3.277904</td>\n      <td>2362.335942</td>\n      <td>0.793506</td>\n      <td>2001.535266</td>\n    </tr>\n    <tr>\n      <th>std</th>\n      <td>7.905886</td>\n      <td>7.674535</td>\n      <td>7.730364</td>\n      <td>1.797009</td>\n      <td>1.373415</td>\n      <td>654.981925</td>\n      <td>13.041592</td>\n      <td>11.142414</td>\n    </tr>\n    <tr>\n      <th>min</th>\n      <td>6.000000</td>\n      <td>7.000000</td>\n      <td>9.000000</td>\n      <td>0.000000</td>\n      <td>0.000000</td>\n      <td>500.000000</td>\n      <td>0.000000</td>\n      <td>1984.000000</td>\n    </tr>\n    <tr>\n      <th>25%</th>\n      <td>15.000000</td>\n      <td>17.000000</td>\n      <td>20.000000</td>\n      <td>4.000000</td>\n      <td>2.200000</td>\n      <td>1900.000000</td>\n      <td>0.000000</td>\n      <td>1991.000000</td>\n    </tr>\n    <tr>\n      <th>50%</th>\n      <td>17.000000</td>\n      <td>20.000000</td>\n      <td>24.000000</td>\n      <td>6.000000</td>\n      <td>3.000000</td>\n      <td>2350.000000</td>\n      <td>0.000000</td>\n      <td>2002.000000</td>\n    </tr>\n    <tr>\n      <th>75%</th>\n      <td>20.000000</td>\n      <td>23.000000</td>\n      <td>28.000000</td>\n      <td>6.000000</td>\n      <td>4.300000</td>\n      <td>2700.000000</td>\n      <td>0.000000</td>\n      <td>2011.000000</td>\n    </tr>\n    <tr>\n      <th>max</th>\n      <td>150.000000</td>\n      <td>136.000000</td>\n      <td>124.000000</td>\n      <td>16.000000</td>\n      <td>8.400000</td>\n      <td>7400.000000</td>\n      <td>370.000000</td>\n      <td>2020.000000</td>\n    </tr>\n  </tbody>\n</table>\n</div>"
     },
     "execution_count": 22,
     "metadata": {},
     "output_type": "execute_result"
    }
   ],
   "source": [
    "# Fill na as 0 because it is probably due to electric vehicles\n",
    "\n",
    "(autos\n",
    " [cols]\n",
    ".assign(cylinders=autos.cylinders.fillna(0).astype('int8'),\n",
    "        displ=autos.displ.fillna(0)))\\\n",
    " .astype({'highway08': 'int8', 'city08': 'int16', 'comb08': 'int16', 'fuelCost08': 'int16', 'range': 'int16', 'year': 'int16'})\\\n",
    " .describe()"
   ],
   "metadata": {
    "collapsed": false
   }
  },
  {
   "cell_type": "code",
   "execution_count": 23,
   "outputs": [
    {
     "data": {
      "text/plain": "             city08        comb08     highway08     cylinders         displ  \\\ncount  41144.000000  41144.000000  41144.000000  40938.000000  40940.000000   \nmean      18.369045     20.616396     24.504667      5.717084      3.294238   \nstd        7.905886      7.674535      7.730364      1.755517      1.357151   \nmin        6.000000      7.000000      9.000000      2.000000      0.000000   \n25%       15.000000     17.000000     20.000000      4.000000      2.200000   \n50%       17.000000     20.000000     24.000000      6.000000      3.000000   \n75%       20.000000     23.000000     28.000000      6.000000      4.300000   \nmax      150.000000    136.000000    124.000000     16.000000      8.400000   \n\n         fuelCost08         range          year  \ncount  41144.000000  41144.000000  41144.000000  \nmean    2362.335942      0.793506   2001.535266  \nstd      654.981925     13.041592     11.142414  \nmin      500.000000      0.000000   1984.000000  \n25%     1900.000000      0.000000   1991.000000  \n50%     2350.000000      0.000000   2002.000000  \n75%     2700.000000      0.000000   2011.000000  \nmax     7400.000000    370.000000   2020.000000  ",
      "text/html": "<div>\n<style scoped>\n    .dataframe tbody tr th:only-of-type {\n        vertical-align: middle;\n    }\n\n    .dataframe tbody tr th {\n        vertical-align: top;\n    }\n\n    .dataframe thead th {\n        text-align: right;\n    }\n</style>\n<table border=\"1\" class=\"dataframe\">\n  <thead>\n    <tr style=\"text-align: right;\">\n      <th></th>\n      <th>city08</th>\n      <th>comb08</th>\n      <th>highway08</th>\n      <th>cylinders</th>\n      <th>displ</th>\n      <th>fuelCost08</th>\n      <th>range</th>\n      <th>year</th>\n    </tr>\n  </thead>\n  <tbody>\n    <tr>\n      <th>count</th>\n      <td>41144.000000</td>\n      <td>41144.000000</td>\n      <td>41144.000000</td>\n      <td>40938.000000</td>\n      <td>40940.000000</td>\n      <td>41144.000000</td>\n      <td>41144.000000</td>\n      <td>41144.000000</td>\n    </tr>\n    <tr>\n      <th>mean</th>\n      <td>18.369045</td>\n      <td>20.616396</td>\n      <td>24.504667</td>\n      <td>5.717084</td>\n      <td>3.294238</td>\n      <td>2362.335942</td>\n      <td>0.793506</td>\n      <td>2001.535266</td>\n    </tr>\n    <tr>\n      <th>std</th>\n      <td>7.905886</td>\n      <td>7.674535</td>\n      <td>7.730364</td>\n      <td>1.755517</td>\n      <td>1.357151</td>\n      <td>654.981925</td>\n      <td>13.041592</td>\n      <td>11.142414</td>\n    </tr>\n    <tr>\n      <th>min</th>\n      <td>6.000000</td>\n      <td>7.000000</td>\n      <td>9.000000</td>\n      <td>2.000000</td>\n      <td>0.000000</td>\n      <td>500.000000</td>\n      <td>0.000000</td>\n      <td>1984.000000</td>\n    </tr>\n    <tr>\n      <th>25%</th>\n      <td>15.000000</td>\n      <td>17.000000</td>\n      <td>20.000000</td>\n      <td>4.000000</td>\n      <td>2.200000</td>\n      <td>1900.000000</td>\n      <td>0.000000</td>\n      <td>1991.000000</td>\n    </tr>\n    <tr>\n      <th>50%</th>\n      <td>17.000000</td>\n      <td>20.000000</td>\n      <td>24.000000</td>\n      <td>6.000000</td>\n      <td>3.000000</td>\n      <td>2350.000000</td>\n      <td>0.000000</td>\n      <td>2002.000000</td>\n    </tr>\n    <tr>\n      <th>75%</th>\n      <td>20.000000</td>\n      <td>23.000000</td>\n      <td>28.000000</td>\n      <td>6.000000</td>\n      <td>4.300000</td>\n      <td>2700.000000</td>\n      <td>0.000000</td>\n      <td>2011.000000</td>\n    </tr>\n    <tr>\n      <th>max</th>\n      <td>150.000000</td>\n      <td>136.000000</td>\n      <td>124.000000</td>\n      <td>16.000000</td>\n      <td>8.400000</td>\n      <td>7400.000000</td>\n      <td>370.000000</td>\n      <td>2020.000000</td>\n    </tr>\n  </tbody>\n</table>\n</div>"
     },
     "execution_count": 23,
     "metadata": {},
     "output_type": "execute_result"
    }
   ],
   "source": [
    "autos[cols].describe()"
   ],
   "metadata": {
    "collapsed": false
   }
  },
  {
   "cell_type": "code",
   "execution_count": 24,
   "outputs": [
    {
     "data": {
      "text/plain": "finfo(resolution=0.001, min=-6.55040e+04, max=6.55040e+04, dtype=float16)"
     },
     "execution_count": 24,
     "metadata": {},
     "output_type": "execute_result"
    }
   ],
   "source": [
    "#inspecting float sizes\n",
    "np.finfo(np.float16)"
   ],
   "metadata": {
    "collapsed": false
   }
  },
  {
   "cell_type": "code",
   "execution_count": 25,
   "outputs": [
    {
     "data": {
      "text/plain": "       city08  comb08  highway08  cylinders     displ  \\\n0          19      21         25          4  2.000000   \n1           9      11         14         12  4.898438   \n2          23      27         33          4  2.199219   \n3          10      11         12          8  5.199219   \n4          17      19         23          4  2.199219   \n5          21      22         24          4  1.799805   \n6          22      25         29          4  1.799805   \n7          23      24         26          4  1.599609   \n8          23      26         31          4  1.599609   \n9          23      25         30          4  1.799805   \n...       ...     ...        ...        ...       ...   \n41134      18      20         24          4  2.099609   \n41135      23      26         33          4  1.900391   \n41136      21      24         30          4  1.900391   \n41137      24      28         33          4  1.900391   \n41138      21      25         32          4  1.900391   \n41139      19      22         26          4  2.199219   \n41140      20      23         28          4  2.199219   \n41141      18      21         24          4  2.199219   \n41142      18      21         24          4  2.199219   \n41143      16      18         21          4  2.199219   \n\n                            drive          eng_dscr  fuelCost08        make  \\\n0                Rear-Wheel Drive             (FFS)        2000  Alfa Romeo   \n1                Rear-Wheel Drive         (GUZZLER)        3850     Ferrari   \n2               Front-Wheel Drive             (FFS)        1550       Dodge   \n3                Rear-Wheel Drive               NaN        3850       Dodge   \n4      4-Wheel or All-Wheel Drive        (FFS,TRBO)        2700      Subaru   \n5               Front-Wheel Drive             (FFS)        1900      Subaru   \n6               Front-Wheel Drive             (FFS)        1700      Subaru   \n7               Front-Wheel Drive             (FFS)        1750      Toyota   \n8               Front-Wheel Drive             (FFS)        1600      Toyota   \n9               Front-Wheel Drive             (FFS)        1700      Toyota   \n...                           ...               ...         ...         ...   \n41134           Front-Wheel Drive             (FFS)        2100        Saab   \n41135           Front-Wheel Drive  (TBI)      (FFS)        1600      Saturn   \n41136           Front-Wheel Drive  (MFI)      (FFS)        1750      Saturn   \n41137           Front-Wheel Drive  (TBI)      (FFS)        1500      Saturn   \n41138           Front-Wheel Drive  (MFI)      (FFS)        1700      Saturn   \n41139           Front-Wheel Drive             (FFS)        1900      Subaru   \n41140           Front-Wheel Drive             (FFS)        1850      Subaru   \n41141  4-Wheel or All-Wheel Drive             (FFS)        2000      Subaru   \n41142  4-Wheel or All-Wheel Drive             (FFS)        2000      Subaru   \n41143  4-Wheel or All-Wheel Drive        (FFS,TRBO)        2900      Subaru   \n\n                     model            trany  range  \\\n0       Spider Veloce 2000     Manual 5-spd      0   \n1               Testarossa     Manual 5-spd      0   \n2                  Charger     Manual 5-spd      0   \n3      B150/B250 Wagon 2WD  Automatic 3-spd      0   \n4         Legacy AWD Turbo     Manual 5-spd      0   \n5                   Loyale  Automatic 3-spd      0   \n6                   Loyale     Manual 5-spd      0   \n7                  Corolla  Automatic 3-spd      0   \n8                  Corolla     Manual 5-spd      0   \n9                  Corolla  Automatic 4-spd      0   \n...                    ...              ...    ...   \n41134                  900     Manual 5-spd      0   \n41135                   SL  Automatic 4-spd      0   \n41136                   SL  Automatic 4-spd      0   \n41137                   SL     Manual 5-spd      0   \n41138                   SL     Manual 5-spd      0   \n41139               Legacy  Automatic 4-spd      0   \n41140               Legacy     Manual 5-spd      0   \n41141           Legacy AWD  Automatic 4-spd      0   \n41142           Legacy AWD     Manual 5-spd      0   \n41143     Legacy AWD Turbo  Automatic 4-spd      0   \n\n                          createdOn  year  \n0      Tue Jan 01 00:00:00 EST 2013  1985  \n1      Tue Jan 01 00:00:00 EST 2013  1985  \n2      Tue Jan 01 00:00:00 EST 2013  1985  \n3      Tue Jan 01 00:00:00 EST 2013  1985  \n4      Tue Jan 01 00:00:00 EST 2013  1993  \n5      Tue Jan 01 00:00:00 EST 2013  1993  \n6      Tue Jan 01 00:00:00 EST 2013  1993  \n7      Tue Jan 01 00:00:00 EST 2013  1993  \n8      Tue Jan 01 00:00:00 EST 2013  1993  \n9      Tue Jan 01 00:00:00 EST 2013  1993  \n...                             ...   ...  \n41134  Tue Jan 01 00:00:00 EST 2013  1993  \n41135  Tue Jan 01 00:00:00 EST 2013  1993  \n41136  Tue Jan 01 00:00:00 EST 2013  1993  \n41137  Tue Jan 01 00:00:00 EST 2013  1993  \n41138  Tue Jan 01 00:00:00 EST 2013  1993  \n41139  Tue Jan 01 00:00:00 EST 2013  1993  \n41140  Tue Jan 01 00:00:00 EST 2013  1993  \n41141  Tue Jan 01 00:00:00 EST 2013  1993  \n41142  Tue Jan 01 00:00:00 EST 2013  1993  \n41143  Tue Jan 01 00:00:00 EST 2013  1993  \n\n[41144 rows x 14 columns]",
      "text/html": "<div>\n<style scoped>\n    .dataframe tbody tr th:only-of-type {\n        vertical-align: middle;\n    }\n\n    .dataframe tbody tr th {\n        vertical-align: top;\n    }\n\n    .dataframe thead th {\n        text-align: right;\n    }\n</style>\n<table border=\"1\" class=\"dataframe\">\n  <thead>\n    <tr style=\"text-align: right;\">\n      <th></th>\n      <th>city08</th>\n      <th>comb08</th>\n      <th>highway08</th>\n      <th>cylinders</th>\n      <th>displ</th>\n      <th>drive</th>\n      <th>eng_dscr</th>\n      <th>fuelCost08</th>\n      <th>make</th>\n      <th>model</th>\n      <th>trany</th>\n      <th>range</th>\n      <th>createdOn</th>\n      <th>year</th>\n    </tr>\n  </thead>\n  <tbody>\n    <tr>\n      <th>0</th>\n      <td>19</td>\n      <td>21</td>\n      <td>25</td>\n      <td>4</td>\n      <td>2.000000</td>\n      <td>Rear-Wheel Drive</td>\n      <td>(FFS)</td>\n      <td>2000</td>\n      <td>Alfa Romeo</td>\n      <td>Spider Veloce 2000</td>\n      <td>Manual 5-spd</td>\n      <td>0</td>\n      <td>Tue Jan 01 00:00:00 EST 2013</td>\n      <td>1985</td>\n    </tr>\n    <tr>\n      <th>1</th>\n      <td>9</td>\n      <td>11</td>\n      <td>14</td>\n      <td>12</td>\n      <td>4.898438</td>\n      <td>Rear-Wheel Drive</td>\n      <td>(GUZZLER)</td>\n      <td>3850</td>\n      <td>Ferrari</td>\n      <td>Testarossa</td>\n      <td>Manual 5-spd</td>\n      <td>0</td>\n      <td>Tue Jan 01 00:00:00 EST 2013</td>\n      <td>1985</td>\n    </tr>\n    <tr>\n      <th>2</th>\n      <td>23</td>\n      <td>27</td>\n      <td>33</td>\n      <td>4</td>\n      <td>2.199219</td>\n      <td>Front-Wheel Drive</td>\n      <td>(FFS)</td>\n      <td>1550</td>\n      <td>Dodge</td>\n      <td>Charger</td>\n      <td>Manual 5-spd</td>\n      <td>0</td>\n      <td>Tue Jan 01 00:00:00 EST 2013</td>\n      <td>1985</td>\n    </tr>\n    <tr>\n      <th>3</th>\n      <td>10</td>\n      <td>11</td>\n      <td>12</td>\n      <td>8</td>\n      <td>5.199219</td>\n      <td>Rear-Wheel Drive</td>\n      <td>NaN</td>\n      <td>3850</td>\n      <td>Dodge</td>\n      <td>B150/B250 Wagon 2WD</td>\n      <td>Automatic 3-spd</td>\n      <td>0</td>\n      <td>Tue Jan 01 00:00:00 EST 2013</td>\n      <td>1985</td>\n    </tr>\n    <tr>\n      <th>4</th>\n      <td>17</td>\n      <td>19</td>\n      <td>23</td>\n      <td>4</td>\n      <td>2.199219</td>\n      <td>4-Wheel or All-Wheel Drive</td>\n      <td>(FFS,TRBO)</td>\n      <td>2700</td>\n      <td>Subaru</td>\n      <td>Legacy AWD Turbo</td>\n      <td>Manual 5-spd</td>\n      <td>0</td>\n      <td>Tue Jan 01 00:00:00 EST 2013</td>\n      <td>1993</td>\n    </tr>\n    <tr>\n      <th>5</th>\n      <td>21</td>\n      <td>22</td>\n      <td>24</td>\n      <td>4</td>\n      <td>1.799805</td>\n      <td>Front-Wheel Drive</td>\n      <td>(FFS)</td>\n      <td>1900</td>\n      <td>Subaru</td>\n      <td>Loyale</td>\n      <td>Automatic 3-spd</td>\n      <td>0</td>\n      <td>Tue Jan 01 00:00:00 EST 2013</td>\n      <td>1993</td>\n    </tr>\n    <tr>\n      <th>6</th>\n      <td>22</td>\n      <td>25</td>\n      <td>29</td>\n      <td>4</td>\n      <td>1.799805</td>\n      <td>Front-Wheel Drive</td>\n      <td>(FFS)</td>\n      <td>1700</td>\n      <td>Subaru</td>\n      <td>Loyale</td>\n      <td>Manual 5-spd</td>\n      <td>0</td>\n      <td>Tue Jan 01 00:00:00 EST 2013</td>\n      <td>1993</td>\n    </tr>\n    <tr>\n      <th>7</th>\n      <td>23</td>\n      <td>24</td>\n      <td>26</td>\n      <td>4</td>\n      <td>1.599609</td>\n      <td>Front-Wheel Drive</td>\n      <td>(FFS)</td>\n      <td>1750</td>\n      <td>Toyota</td>\n      <td>Corolla</td>\n      <td>Automatic 3-spd</td>\n      <td>0</td>\n      <td>Tue Jan 01 00:00:00 EST 2013</td>\n      <td>1993</td>\n    </tr>\n    <tr>\n      <th>8</th>\n      <td>23</td>\n      <td>26</td>\n      <td>31</td>\n      <td>4</td>\n      <td>1.599609</td>\n      <td>Front-Wheel Drive</td>\n      <td>(FFS)</td>\n      <td>1600</td>\n      <td>Toyota</td>\n      <td>Corolla</td>\n      <td>Manual 5-spd</td>\n      <td>0</td>\n      <td>Tue Jan 01 00:00:00 EST 2013</td>\n      <td>1993</td>\n    </tr>\n    <tr>\n      <th>9</th>\n      <td>23</td>\n      <td>25</td>\n      <td>30</td>\n      <td>4</td>\n      <td>1.799805</td>\n      <td>Front-Wheel Drive</td>\n      <td>(FFS)</td>\n      <td>1700</td>\n      <td>Toyota</td>\n      <td>Corolla</td>\n      <td>Automatic 4-spd</td>\n      <td>0</td>\n      <td>Tue Jan 01 00:00:00 EST 2013</td>\n      <td>1993</td>\n    </tr>\n    <tr>\n      <th>...</th>\n      <td>...</td>\n      <td>...</td>\n      <td>...</td>\n      <td>...</td>\n      <td>...</td>\n      <td>...</td>\n      <td>...</td>\n      <td>...</td>\n      <td>...</td>\n      <td>...</td>\n      <td>...</td>\n      <td>...</td>\n      <td>...</td>\n      <td>...</td>\n    </tr>\n    <tr>\n      <th>41134</th>\n      <td>18</td>\n      <td>20</td>\n      <td>24</td>\n      <td>4</td>\n      <td>2.099609</td>\n      <td>Front-Wheel Drive</td>\n      <td>(FFS)</td>\n      <td>2100</td>\n      <td>Saab</td>\n      <td>900</td>\n      <td>Manual 5-spd</td>\n      <td>0</td>\n      <td>Tue Jan 01 00:00:00 EST 2013</td>\n      <td>1993</td>\n    </tr>\n    <tr>\n      <th>41135</th>\n      <td>23</td>\n      <td>26</td>\n      <td>33</td>\n      <td>4</td>\n      <td>1.900391</td>\n      <td>Front-Wheel Drive</td>\n      <td>(TBI)      (FFS)</td>\n      <td>1600</td>\n      <td>Saturn</td>\n      <td>SL</td>\n      <td>Automatic 4-spd</td>\n      <td>0</td>\n      <td>Tue Jan 01 00:00:00 EST 2013</td>\n      <td>1993</td>\n    </tr>\n    <tr>\n      <th>41136</th>\n      <td>21</td>\n      <td>24</td>\n      <td>30</td>\n      <td>4</td>\n      <td>1.900391</td>\n      <td>Front-Wheel Drive</td>\n      <td>(MFI)      (FFS)</td>\n      <td>1750</td>\n      <td>Saturn</td>\n      <td>SL</td>\n      <td>Automatic 4-spd</td>\n      <td>0</td>\n      <td>Tue Jan 01 00:00:00 EST 2013</td>\n      <td>1993</td>\n    </tr>\n    <tr>\n      <th>41137</th>\n      <td>24</td>\n      <td>28</td>\n      <td>33</td>\n      <td>4</td>\n      <td>1.900391</td>\n      <td>Front-Wheel Drive</td>\n      <td>(TBI)      (FFS)</td>\n      <td>1500</td>\n      <td>Saturn</td>\n      <td>SL</td>\n      <td>Manual 5-spd</td>\n      <td>0</td>\n      <td>Tue Jan 01 00:00:00 EST 2013</td>\n      <td>1993</td>\n    </tr>\n    <tr>\n      <th>41138</th>\n      <td>21</td>\n      <td>25</td>\n      <td>32</td>\n      <td>4</td>\n      <td>1.900391</td>\n      <td>Front-Wheel Drive</td>\n      <td>(MFI)      (FFS)</td>\n      <td>1700</td>\n      <td>Saturn</td>\n      <td>SL</td>\n      <td>Manual 5-spd</td>\n      <td>0</td>\n      <td>Tue Jan 01 00:00:00 EST 2013</td>\n      <td>1993</td>\n    </tr>\n    <tr>\n      <th>41139</th>\n      <td>19</td>\n      <td>22</td>\n      <td>26</td>\n      <td>4</td>\n      <td>2.199219</td>\n      <td>Front-Wheel Drive</td>\n      <td>(FFS)</td>\n      <td>1900</td>\n      <td>Subaru</td>\n      <td>Legacy</td>\n      <td>Automatic 4-spd</td>\n      <td>0</td>\n      <td>Tue Jan 01 00:00:00 EST 2013</td>\n      <td>1993</td>\n    </tr>\n    <tr>\n      <th>41140</th>\n      <td>20</td>\n      <td>23</td>\n      <td>28</td>\n      <td>4</td>\n      <td>2.199219</td>\n      <td>Front-Wheel Drive</td>\n      <td>(FFS)</td>\n      <td>1850</td>\n      <td>Subaru</td>\n      <td>Legacy</td>\n      <td>Manual 5-spd</td>\n      <td>0</td>\n      <td>Tue Jan 01 00:00:00 EST 2013</td>\n      <td>1993</td>\n    </tr>\n    <tr>\n      <th>41141</th>\n      <td>18</td>\n      <td>21</td>\n      <td>24</td>\n      <td>4</td>\n      <td>2.199219</td>\n      <td>4-Wheel or All-Wheel Drive</td>\n      <td>(FFS)</td>\n      <td>2000</td>\n      <td>Subaru</td>\n      <td>Legacy AWD</td>\n      <td>Automatic 4-spd</td>\n      <td>0</td>\n      <td>Tue Jan 01 00:00:00 EST 2013</td>\n      <td>1993</td>\n    </tr>\n    <tr>\n      <th>41142</th>\n      <td>18</td>\n      <td>21</td>\n      <td>24</td>\n      <td>4</td>\n      <td>2.199219</td>\n      <td>4-Wheel or All-Wheel Drive</td>\n      <td>(FFS)</td>\n      <td>2000</td>\n      <td>Subaru</td>\n      <td>Legacy AWD</td>\n      <td>Manual 5-spd</td>\n      <td>0</td>\n      <td>Tue Jan 01 00:00:00 EST 2013</td>\n      <td>1993</td>\n    </tr>\n    <tr>\n      <th>41143</th>\n      <td>16</td>\n      <td>18</td>\n      <td>21</td>\n      <td>4</td>\n      <td>2.199219</td>\n      <td>4-Wheel or All-Wheel Drive</td>\n      <td>(FFS,TRBO)</td>\n      <td>2900</td>\n      <td>Subaru</td>\n      <td>Legacy AWD Turbo</td>\n      <td>Automatic 4-spd</td>\n      <td>0</td>\n      <td>Tue Jan 01 00:00:00 EST 2013</td>\n      <td>1993</td>\n    </tr>\n  </tbody>\n</table>\n<p>41144 rows × 14 columns</p>\n</div>"
     },
     "execution_count": 25,
     "metadata": {},
     "output_type": "execute_result"
    }
   ],
   "source": [
    "# chaining - convert displ to float16\n",
    "(autos\n",
    " [cols]\n",
    " .assign(cylinders=autos.cylinders.fillna(0).astype('int8'),\n",
    "         displ=autos.displ.fillna(0).astype('float16'))\n",
    " .astype({'highway08': 'int8', 'city08': 'int16', 'comb08': 'int16', 'fuelCost08': 'int16', 'range': 'int16', 'year': 'int16'})\n",
    ")"
   ],
   "metadata": {
    "collapsed": false
   }
  },
  {
   "cell_type": "markdown",
   "source": [
    "Objects"
   ],
   "metadata": {
    "collapsed": false
   }
  },
  {
   "cell_type": "code",
   "execution_count": 26,
   "outputs": [
    {
     "data": {
      "text/plain": "                            drive          eng_dscr        make  \\\n0                Rear-Wheel Drive             (FFS)  Alfa Romeo   \n1                Rear-Wheel Drive         (GUZZLER)     Ferrari   \n2               Front-Wheel Drive             (FFS)       Dodge   \n3                Rear-Wheel Drive               NaN       Dodge   \n4      4-Wheel or All-Wheel Drive        (FFS,TRBO)      Subaru   \n5               Front-Wheel Drive             (FFS)      Subaru   \n6               Front-Wheel Drive             (FFS)      Subaru   \n7               Front-Wheel Drive             (FFS)      Toyota   \n8               Front-Wheel Drive             (FFS)      Toyota   \n9               Front-Wheel Drive             (FFS)      Toyota   \n...                           ...               ...         ...   \n41134           Front-Wheel Drive             (FFS)        Saab   \n41135           Front-Wheel Drive  (TBI)      (FFS)      Saturn   \n41136           Front-Wheel Drive  (MFI)      (FFS)      Saturn   \n41137           Front-Wheel Drive  (TBI)      (FFS)      Saturn   \n41138           Front-Wheel Drive  (MFI)      (FFS)      Saturn   \n41139           Front-Wheel Drive             (FFS)      Subaru   \n41140           Front-Wheel Drive             (FFS)      Subaru   \n41141  4-Wheel or All-Wheel Drive             (FFS)      Subaru   \n41142  4-Wheel or All-Wheel Drive             (FFS)      Subaru   \n41143  4-Wheel or All-Wheel Drive        (FFS,TRBO)      Subaru   \n\n                     model            trany                     createdOn  \n0       Spider Veloce 2000     Manual 5-spd  Tue Jan 01 00:00:00 EST 2013  \n1               Testarossa     Manual 5-spd  Tue Jan 01 00:00:00 EST 2013  \n2                  Charger     Manual 5-spd  Tue Jan 01 00:00:00 EST 2013  \n3      B150/B250 Wagon 2WD  Automatic 3-spd  Tue Jan 01 00:00:00 EST 2013  \n4         Legacy AWD Turbo     Manual 5-spd  Tue Jan 01 00:00:00 EST 2013  \n5                   Loyale  Automatic 3-spd  Tue Jan 01 00:00:00 EST 2013  \n6                   Loyale     Manual 5-spd  Tue Jan 01 00:00:00 EST 2013  \n7                  Corolla  Automatic 3-spd  Tue Jan 01 00:00:00 EST 2013  \n8                  Corolla     Manual 5-spd  Tue Jan 01 00:00:00 EST 2013  \n9                  Corolla  Automatic 4-spd  Tue Jan 01 00:00:00 EST 2013  \n...                    ...              ...                           ...  \n41134                  900     Manual 5-spd  Tue Jan 01 00:00:00 EST 2013  \n41135                   SL  Automatic 4-spd  Tue Jan 01 00:00:00 EST 2013  \n41136                   SL  Automatic 4-spd  Tue Jan 01 00:00:00 EST 2013  \n41137                   SL     Manual 5-spd  Tue Jan 01 00:00:00 EST 2013  \n41138                   SL     Manual 5-spd  Tue Jan 01 00:00:00 EST 2013  \n41139               Legacy  Automatic 4-spd  Tue Jan 01 00:00:00 EST 2013  \n41140               Legacy     Manual 5-spd  Tue Jan 01 00:00:00 EST 2013  \n41141           Legacy AWD  Automatic 4-spd  Tue Jan 01 00:00:00 EST 2013  \n41142           Legacy AWD     Manual 5-spd  Tue Jan 01 00:00:00 EST 2013  \n41143     Legacy AWD Turbo  Automatic 4-spd  Tue Jan 01 00:00:00 EST 2013  \n\n[41144 rows x 6 columns]",
      "text/html": "<div>\n<style scoped>\n    .dataframe tbody tr th:only-of-type {\n        vertical-align: middle;\n    }\n\n    .dataframe tbody tr th {\n        vertical-align: top;\n    }\n\n    .dataframe thead th {\n        text-align: right;\n    }\n</style>\n<table border=\"1\" class=\"dataframe\">\n  <thead>\n    <tr style=\"text-align: right;\">\n      <th></th>\n      <th>drive</th>\n      <th>eng_dscr</th>\n      <th>make</th>\n      <th>model</th>\n      <th>trany</th>\n      <th>createdOn</th>\n    </tr>\n  </thead>\n  <tbody>\n    <tr>\n      <th>0</th>\n      <td>Rear-Wheel Drive</td>\n      <td>(FFS)</td>\n      <td>Alfa Romeo</td>\n      <td>Spider Veloce 2000</td>\n      <td>Manual 5-spd</td>\n      <td>Tue Jan 01 00:00:00 EST 2013</td>\n    </tr>\n    <tr>\n      <th>1</th>\n      <td>Rear-Wheel Drive</td>\n      <td>(GUZZLER)</td>\n      <td>Ferrari</td>\n      <td>Testarossa</td>\n      <td>Manual 5-spd</td>\n      <td>Tue Jan 01 00:00:00 EST 2013</td>\n    </tr>\n    <tr>\n      <th>2</th>\n      <td>Front-Wheel Drive</td>\n      <td>(FFS)</td>\n      <td>Dodge</td>\n      <td>Charger</td>\n      <td>Manual 5-spd</td>\n      <td>Tue Jan 01 00:00:00 EST 2013</td>\n    </tr>\n    <tr>\n      <th>3</th>\n      <td>Rear-Wheel Drive</td>\n      <td>NaN</td>\n      <td>Dodge</td>\n      <td>B150/B250 Wagon 2WD</td>\n      <td>Automatic 3-spd</td>\n      <td>Tue Jan 01 00:00:00 EST 2013</td>\n    </tr>\n    <tr>\n      <th>4</th>\n      <td>4-Wheel or All-Wheel Drive</td>\n      <td>(FFS,TRBO)</td>\n      <td>Subaru</td>\n      <td>Legacy AWD Turbo</td>\n      <td>Manual 5-spd</td>\n      <td>Tue Jan 01 00:00:00 EST 2013</td>\n    </tr>\n    <tr>\n      <th>5</th>\n      <td>Front-Wheel Drive</td>\n      <td>(FFS)</td>\n      <td>Subaru</td>\n      <td>Loyale</td>\n      <td>Automatic 3-spd</td>\n      <td>Tue Jan 01 00:00:00 EST 2013</td>\n    </tr>\n    <tr>\n      <th>6</th>\n      <td>Front-Wheel Drive</td>\n      <td>(FFS)</td>\n      <td>Subaru</td>\n      <td>Loyale</td>\n      <td>Manual 5-spd</td>\n      <td>Tue Jan 01 00:00:00 EST 2013</td>\n    </tr>\n    <tr>\n      <th>7</th>\n      <td>Front-Wheel Drive</td>\n      <td>(FFS)</td>\n      <td>Toyota</td>\n      <td>Corolla</td>\n      <td>Automatic 3-spd</td>\n      <td>Tue Jan 01 00:00:00 EST 2013</td>\n    </tr>\n    <tr>\n      <th>8</th>\n      <td>Front-Wheel Drive</td>\n      <td>(FFS)</td>\n      <td>Toyota</td>\n      <td>Corolla</td>\n      <td>Manual 5-spd</td>\n      <td>Tue Jan 01 00:00:00 EST 2013</td>\n    </tr>\n    <tr>\n      <th>9</th>\n      <td>Front-Wheel Drive</td>\n      <td>(FFS)</td>\n      <td>Toyota</td>\n      <td>Corolla</td>\n      <td>Automatic 4-spd</td>\n      <td>Tue Jan 01 00:00:00 EST 2013</td>\n    </tr>\n    <tr>\n      <th>...</th>\n      <td>...</td>\n      <td>...</td>\n      <td>...</td>\n      <td>...</td>\n      <td>...</td>\n      <td>...</td>\n    </tr>\n    <tr>\n      <th>41134</th>\n      <td>Front-Wheel Drive</td>\n      <td>(FFS)</td>\n      <td>Saab</td>\n      <td>900</td>\n      <td>Manual 5-spd</td>\n      <td>Tue Jan 01 00:00:00 EST 2013</td>\n    </tr>\n    <tr>\n      <th>41135</th>\n      <td>Front-Wheel Drive</td>\n      <td>(TBI)      (FFS)</td>\n      <td>Saturn</td>\n      <td>SL</td>\n      <td>Automatic 4-spd</td>\n      <td>Tue Jan 01 00:00:00 EST 2013</td>\n    </tr>\n    <tr>\n      <th>41136</th>\n      <td>Front-Wheel Drive</td>\n      <td>(MFI)      (FFS)</td>\n      <td>Saturn</td>\n      <td>SL</td>\n      <td>Automatic 4-spd</td>\n      <td>Tue Jan 01 00:00:00 EST 2013</td>\n    </tr>\n    <tr>\n      <th>41137</th>\n      <td>Front-Wheel Drive</td>\n      <td>(TBI)      (FFS)</td>\n      <td>Saturn</td>\n      <td>SL</td>\n      <td>Manual 5-spd</td>\n      <td>Tue Jan 01 00:00:00 EST 2013</td>\n    </tr>\n    <tr>\n      <th>41138</th>\n      <td>Front-Wheel Drive</td>\n      <td>(MFI)      (FFS)</td>\n      <td>Saturn</td>\n      <td>SL</td>\n      <td>Manual 5-spd</td>\n      <td>Tue Jan 01 00:00:00 EST 2013</td>\n    </tr>\n    <tr>\n      <th>41139</th>\n      <td>Front-Wheel Drive</td>\n      <td>(FFS)</td>\n      <td>Subaru</td>\n      <td>Legacy</td>\n      <td>Automatic 4-spd</td>\n      <td>Tue Jan 01 00:00:00 EST 2013</td>\n    </tr>\n    <tr>\n      <th>41140</th>\n      <td>Front-Wheel Drive</td>\n      <td>(FFS)</td>\n      <td>Subaru</td>\n      <td>Legacy</td>\n      <td>Manual 5-spd</td>\n      <td>Tue Jan 01 00:00:00 EST 2013</td>\n    </tr>\n    <tr>\n      <th>41141</th>\n      <td>4-Wheel or All-Wheel Drive</td>\n      <td>(FFS)</td>\n      <td>Subaru</td>\n      <td>Legacy AWD</td>\n      <td>Automatic 4-spd</td>\n      <td>Tue Jan 01 00:00:00 EST 2013</td>\n    </tr>\n    <tr>\n      <th>41142</th>\n      <td>4-Wheel or All-Wheel Drive</td>\n      <td>(FFS)</td>\n      <td>Subaru</td>\n      <td>Legacy AWD</td>\n      <td>Manual 5-spd</td>\n      <td>Tue Jan 01 00:00:00 EST 2013</td>\n    </tr>\n    <tr>\n      <th>41143</th>\n      <td>4-Wheel or All-Wheel Drive</td>\n      <td>(FFS,TRBO)</td>\n      <td>Subaru</td>\n      <td>Legacy AWD Turbo</td>\n      <td>Automatic 4-spd</td>\n      <td>Tue Jan 01 00:00:00 EST 2013</td>\n    </tr>\n  </tbody>\n</table>\n<p>41144 rows × 6 columns</p>\n</div>"
     },
     "execution_count": 26,
     "metadata": {},
     "output_type": "execute_result"
    }
   ],
   "source": [
    "(autos\n",
    " [cols]\n",
    ".select_dtypes(object)\n",
    " )"
   ],
   "metadata": {
    "collapsed": false
   }
  },
  {
   "cell_type": "code",
   "execution_count": 27,
   "outputs": [
    {
     "data": {
      "text/plain": "Front-Wheel Drive             14236\nRear-Wheel Drive              13831\n4-Wheel or All-Wheel Drive     6648\nAll-Wheel Drive                3015\n4-Wheel Drive                  1460\nNaN                            1189\n2-Wheel Drive                   507\nPart-time 4-Wheel Drive         258\nName: drive, dtype: int64"
     },
     "execution_count": 27,
     "metadata": {},
     "output_type": "execute_result"
    }
   ],
   "source": [
    "# Looks categorical\n",
    "(autos.drive.value_counts(dropna=False))"
   ],
   "metadata": {
    "collapsed": false
   }
  },
  {
   "cell_type": "code",
   "execution_count": 28,
   "outputs": [
    {
     "data": {
      "text/plain": "       city08  comb08  highway08  cylinders  displ drive            eng_dscr  \\\n7138       81      85         91        NaN    NaN   NaN                 NaN   \n8144       74      65         58        NaN    NaN   NaN                 NaN   \n8147       84      75         66        NaN    NaN   NaN                 NaN   \n18217      18      21         25        4.0    2.0   NaN               (FFS)   \n18218      20      22         26        4.0    1.5   NaN               (FFS)   \n18219      13      15         20        8.0    5.7   NaN      (350 V8) (FFS)   \n18220      13      15         20        8.0    5.7   NaN      (350 V8) (FFS)   \n18221      15      17         20        6.0    3.0   NaN          (FFS,TRBO)   \n18222      16      18         20        6.0    3.0   NaN               (FFS)   \n18223      16      18         22        6.0    3.0   NaN          (FFS,TRBO)   \n...       ...     ...        ...        ...    ...   ...                 ...   \n20063      13      15         19        8.0    5.0   NaN      (FFS) CA model   \n20064      13      15         20        8.0    5.0   NaN  (GM-OLDS) CA model   \n20065      14      16         19        8.0    5.0   NaN  (GM-CHEV) CA model   \n20387      14      14         15        4.0    2.4   NaN      (FFS) CA model   \n21129      14      16         21        8.0    3.5   NaN  GUZZLER  FFS,TURBO   \n23029      79      85         94        NaN    NaN   NaN           Lead Acid   \n23030      35      37         39        NaN    NaN   NaN                NiMH   \n23032      49      48         46        NaN    NaN   NaN                 NaN   \n23037      49      48         46        NaN    NaN   NaN                 NaN   \n23040     102      98         94        NaN    NaN   NaN                 NaN   \n\n       fuelCost08        make                 model            trany  range  \\\n7138          800      Nissan              Altra EV              NaN     90   \n8144         1000        Ford                 Th!nk              NaN     29   \n8147          900      Nissan            Hyper-Mini              NaN     33   \n18217        2000  Alfa Romeo    Spider Veloce 2000     Manual 5-spd      0   \n18218        1900     Bertone                  X1/9     Manual 5-spd      0   \n18219        2800   Chevrolet              Corvette  Automatic 4-spd      0   \n18220        2800   Chevrolet              Corvette     Manual 4-spd      0   \n18221        2500      Nissan                 300ZX  Automatic 4-spd      0   \n18222        2350      Nissan                 300ZX  Automatic 4-spd      0   \n18223        2350      Nissan                 300ZX     Manual 5-spd      0   \n...           ...         ...                   ...              ...    ...   \n20063        2800     Mercury   Grand Marquis Wagon  Automatic 4-spd      0   \n20064        2800  Oldsmobile  Custom Cruiser Wagon  Automatic 4-spd      0   \n20065        2650     Pontiac      Parisienne Wagon  Automatic 4-spd      0   \n20387        3000      Nissan    Pickup Cab Chassis     Manual 5-spd      0   \n21129        3250       Lotus             Esprit V8     Manual 5-spd      0   \n23029         800         GMC                   EV1   Automatic (A1)     55   \n23030        1750         GMC                   EV1   Automatic (A1)    105   \n23032        1400       Honda               EV Plus   Automatic (A1)     81   \n23037        1400       Honda               EV Plus   Automatic (A1)     81   \n23040         650        MINI                 MiniE   Automatic (A1)    100   \n\n                          createdOn  year  \n7138   Tue Jan 01 00:00:00 EST 2013  2000  \n8144   Tue Jan 01 00:00:00 EST 2013  2001  \n8147   Tue Jan 01 00:00:00 EST 2013  2001  \n18217  Tue Jan 01 00:00:00 EST 2013  1984  \n18218  Tue Jan 01 00:00:00 EST 2013  1984  \n18219  Tue Jan 01 00:00:00 EST 2013  1984  \n18220  Tue Jan 01 00:00:00 EST 2013  1984  \n18221  Tue Jan 01 00:00:00 EST 2013  1984  \n18222  Tue Jan 01 00:00:00 EST 2013  1984  \n18223  Tue Jan 01 00:00:00 EST 2013  1984  \n...                             ...   ...  \n20063  Tue Jan 01 00:00:00 EST 2013  1984  \n20064  Tue Jan 01 00:00:00 EST 2013  1984  \n20065  Tue Jan 01 00:00:00 EST 2013  1984  \n20387  Tue Jan 01 00:00:00 EST 2013  1984  \n21129  Tue Jan 01 00:00:00 EST 2013  2002  \n23029  Tue Jan 01 00:00:00 EST 2013  1999  \n23030  Tue Jan 01 00:00:00 EST 2013  1999  \n23032  Tue Jan 01 00:00:00 EST 2013  1999  \n23037  Tue Jan 01 00:00:00 EST 2013  1998  \n23040  Tue Jan 01 00:00:00 EST 2013  2008  \n\n[1189 rows x 14 columns]",
      "text/html": "<div>\n<style scoped>\n    .dataframe tbody tr th:only-of-type {\n        vertical-align: middle;\n    }\n\n    .dataframe tbody tr th {\n        vertical-align: top;\n    }\n\n    .dataframe thead th {\n        text-align: right;\n    }\n</style>\n<table border=\"1\" class=\"dataframe\">\n  <thead>\n    <tr style=\"text-align: right;\">\n      <th></th>\n      <th>city08</th>\n      <th>comb08</th>\n      <th>highway08</th>\n      <th>cylinders</th>\n      <th>displ</th>\n      <th>drive</th>\n      <th>eng_dscr</th>\n      <th>fuelCost08</th>\n      <th>make</th>\n      <th>model</th>\n      <th>trany</th>\n      <th>range</th>\n      <th>createdOn</th>\n      <th>year</th>\n    </tr>\n  </thead>\n  <tbody>\n    <tr>\n      <th>7138</th>\n      <td>81</td>\n      <td>85</td>\n      <td>91</td>\n      <td>NaN</td>\n      <td>NaN</td>\n      <td>NaN</td>\n      <td>NaN</td>\n      <td>800</td>\n      <td>Nissan</td>\n      <td>Altra EV</td>\n      <td>NaN</td>\n      <td>90</td>\n      <td>Tue Jan 01 00:00:00 EST 2013</td>\n      <td>2000</td>\n    </tr>\n    <tr>\n      <th>8144</th>\n      <td>74</td>\n      <td>65</td>\n      <td>58</td>\n      <td>NaN</td>\n      <td>NaN</td>\n      <td>NaN</td>\n      <td>NaN</td>\n      <td>1000</td>\n      <td>Ford</td>\n      <td>Th!nk</td>\n      <td>NaN</td>\n      <td>29</td>\n      <td>Tue Jan 01 00:00:00 EST 2013</td>\n      <td>2001</td>\n    </tr>\n    <tr>\n      <th>8147</th>\n      <td>84</td>\n      <td>75</td>\n      <td>66</td>\n      <td>NaN</td>\n      <td>NaN</td>\n      <td>NaN</td>\n      <td>NaN</td>\n      <td>900</td>\n      <td>Nissan</td>\n      <td>Hyper-Mini</td>\n      <td>NaN</td>\n      <td>33</td>\n      <td>Tue Jan 01 00:00:00 EST 2013</td>\n      <td>2001</td>\n    </tr>\n    <tr>\n      <th>18217</th>\n      <td>18</td>\n      <td>21</td>\n      <td>25</td>\n      <td>4.0</td>\n      <td>2.0</td>\n      <td>NaN</td>\n      <td>(FFS)</td>\n      <td>2000</td>\n      <td>Alfa Romeo</td>\n      <td>Spider Veloce 2000</td>\n      <td>Manual 5-spd</td>\n      <td>0</td>\n      <td>Tue Jan 01 00:00:00 EST 2013</td>\n      <td>1984</td>\n    </tr>\n    <tr>\n      <th>18218</th>\n      <td>20</td>\n      <td>22</td>\n      <td>26</td>\n      <td>4.0</td>\n      <td>1.5</td>\n      <td>NaN</td>\n      <td>(FFS)</td>\n      <td>1900</td>\n      <td>Bertone</td>\n      <td>X1/9</td>\n      <td>Manual 5-spd</td>\n      <td>0</td>\n      <td>Tue Jan 01 00:00:00 EST 2013</td>\n      <td>1984</td>\n    </tr>\n    <tr>\n      <th>18219</th>\n      <td>13</td>\n      <td>15</td>\n      <td>20</td>\n      <td>8.0</td>\n      <td>5.7</td>\n      <td>NaN</td>\n      <td>(350 V8) (FFS)</td>\n      <td>2800</td>\n      <td>Chevrolet</td>\n      <td>Corvette</td>\n      <td>Automatic 4-spd</td>\n      <td>0</td>\n      <td>Tue Jan 01 00:00:00 EST 2013</td>\n      <td>1984</td>\n    </tr>\n    <tr>\n      <th>18220</th>\n      <td>13</td>\n      <td>15</td>\n      <td>20</td>\n      <td>8.0</td>\n      <td>5.7</td>\n      <td>NaN</td>\n      <td>(350 V8) (FFS)</td>\n      <td>2800</td>\n      <td>Chevrolet</td>\n      <td>Corvette</td>\n      <td>Manual 4-spd</td>\n      <td>0</td>\n      <td>Tue Jan 01 00:00:00 EST 2013</td>\n      <td>1984</td>\n    </tr>\n    <tr>\n      <th>18221</th>\n      <td>15</td>\n      <td>17</td>\n      <td>20</td>\n      <td>6.0</td>\n      <td>3.0</td>\n      <td>NaN</td>\n      <td>(FFS,TRBO)</td>\n      <td>2500</td>\n      <td>Nissan</td>\n      <td>300ZX</td>\n      <td>Automatic 4-spd</td>\n      <td>0</td>\n      <td>Tue Jan 01 00:00:00 EST 2013</td>\n      <td>1984</td>\n    </tr>\n    <tr>\n      <th>18222</th>\n      <td>16</td>\n      <td>18</td>\n      <td>20</td>\n      <td>6.0</td>\n      <td>3.0</td>\n      <td>NaN</td>\n      <td>(FFS)</td>\n      <td>2350</td>\n      <td>Nissan</td>\n      <td>300ZX</td>\n      <td>Automatic 4-spd</td>\n      <td>0</td>\n      <td>Tue Jan 01 00:00:00 EST 2013</td>\n      <td>1984</td>\n    </tr>\n    <tr>\n      <th>18223</th>\n      <td>16</td>\n      <td>18</td>\n      <td>22</td>\n      <td>6.0</td>\n      <td>3.0</td>\n      <td>NaN</td>\n      <td>(FFS,TRBO)</td>\n      <td>2350</td>\n      <td>Nissan</td>\n      <td>300ZX</td>\n      <td>Manual 5-spd</td>\n      <td>0</td>\n      <td>Tue Jan 01 00:00:00 EST 2013</td>\n      <td>1984</td>\n    </tr>\n    <tr>\n      <th>...</th>\n      <td>...</td>\n      <td>...</td>\n      <td>...</td>\n      <td>...</td>\n      <td>...</td>\n      <td>...</td>\n      <td>...</td>\n      <td>...</td>\n      <td>...</td>\n      <td>...</td>\n      <td>...</td>\n      <td>...</td>\n      <td>...</td>\n      <td>...</td>\n    </tr>\n    <tr>\n      <th>20063</th>\n      <td>13</td>\n      <td>15</td>\n      <td>19</td>\n      <td>8.0</td>\n      <td>5.0</td>\n      <td>NaN</td>\n      <td>(FFS) CA model</td>\n      <td>2800</td>\n      <td>Mercury</td>\n      <td>Grand Marquis Wagon</td>\n      <td>Automatic 4-spd</td>\n      <td>0</td>\n      <td>Tue Jan 01 00:00:00 EST 2013</td>\n      <td>1984</td>\n    </tr>\n    <tr>\n      <th>20064</th>\n      <td>13</td>\n      <td>15</td>\n      <td>20</td>\n      <td>8.0</td>\n      <td>5.0</td>\n      <td>NaN</td>\n      <td>(GM-OLDS) CA model</td>\n      <td>2800</td>\n      <td>Oldsmobile</td>\n      <td>Custom Cruiser Wagon</td>\n      <td>Automatic 4-spd</td>\n      <td>0</td>\n      <td>Tue Jan 01 00:00:00 EST 2013</td>\n      <td>1984</td>\n    </tr>\n    <tr>\n      <th>20065</th>\n      <td>14</td>\n      <td>16</td>\n      <td>19</td>\n      <td>8.0</td>\n      <td>5.0</td>\n      <td>NaN</td>\n      <td>(GM-CHEV) CA model</td>\n      <td>2650</td>\n      <td>Pontiac</td>\n      <td>Parisienne Wagon</td>\n      <td>Automatic 4-spd</td>\n      <td>0</td>\n      <td>Tue Jan 01 00:00:00 EST 2013</td>\n      <td>1984</td>\n    </tr>\n    <tr>\n      <th>20387</th>\n      <td>14</td>\n      <td>14</td>\n      <td>15</td>\n      <td>4.0</td>\n      <td>2.4</td>\n      <td>NaN</td>\n      <td>(FFS) CA model</td>\n      <td>3000</td>\n      <td>Nissan</td>\n      <td>Pickup Cab Chassis</td>\n      <td>Manual 5-spd</td>\n      <td>0</td>\n      <td>Tue Jan 01 00:00:00 EST 2013</td>\n      <td>1984</td>\n    </tr>\n    <tr>\n      <th>21129</th>\n      <td>14</td>\n      <td>16</td>\n      <td>21</td>\n      <td>8.0</td>\n      <td>3.5</td>\n      <td>NaN</td>\n      <td>GUZZLER  FFS,TURBO</td>\n      <td>3250</td>\n      <td>Lotus</td>\n      <td>Esprit V8</td>\n      <td>Manual 5-spd</td>\n      <td>0</td>\n      <td>Tue Jan 01 00:00:00 EST 2013</td>\n      <td>2002</td>\n    </tr>\n    <tr>\n      <th>23029</th>\n      <td>79</td>\n      <td>85</td>\n      <td>94</td>\n      <td>NaN</td>\n      <td>NaN</td>\n      <td>NaN</td>\n      <td>Lead Acid</td>\n      <td>800</td>\n      <td>GMC</td>\n      <td>EV1</td>\n      <td>Automatic (A1)</td>\n      <td>55</td>\n      <td>Tue Jan 01 00:00:00 EST 2013</td>\n      <td>1999</td>\n    </tr>\n    <tr>\n      <th>23030</th>\n      <td>35</td>\n      <td>37</td>\n      <td>39</td>\n      <td>NaN</td>\n      <td>NaN</td>\n      <td>NaN</td>\n      <td>NiMH</td>\n      <td>1750</td>\n      <td>GMC</td>\n      <td>EV1</td>\n      <td>Automatic (A1)</td>\n      <td>105</td>\n      <td>Tue Jan 01 00:00:00 EST 2013</td>\n      <td>1999</td>\n    </tr>\n    <tr>\n      <th>23032</th>\n      <td>49</td>\n      <td>48</td>\n      <td>46</td>\n      <td>NaN</td>\n      <td>NaN</td>\n      <td>NaN</td>\n      <td>NaN</td>\n      <td>1400</td>\n      <td>Honda</td>\n      <td>EV Plus</td>\n      <td>Automatic (A1)</td>\n      <td>81</td>\n      <td>Tue Jan 01 00:00:00 EST 2013</td>\n      <td>1999</td>\n    </tr>\n    <tr>\n      <th>23037</th>\n      <td>49</td>\n      <td>48</td>\n      <td>46</td>\n      <td>NaN</td>\n      <td>NaN</td>\n      <td>NaN</td>\n      <td>NaN</td>\n      <td>1400</td>\n      <td>Honda</td>\n      <td>EV Plus</td>\n      <td>Automatic (A1)</td>\n      <td>81</td>\n      <td>Tue Jan 01 00:00:00 EST 2013</td>\n      <td>1998</td>\n    </tr>\n    <tr>\n      <th>23040</th>\n      <td>102</td>\n      <td>98</td>\n      <td>94</td>\n      <td>NaN</td>\n      <td>NaN</td>\n      <td>NaN</td>\n      <td>NaN</td>\n      <td>650</td>\n      <td>MINI</td>\n      <td>MiniE</td>\n      <td>Automatic (A1)</td>\n      <td>100</td>\n      <td>Tue Jan 01 00:00:00 EST 2013</td>\n      <td>2008</td>\n    </tr>\n  </tbody>\n</table>\n<p>1189 rows × 14 columns</p>\n</div>"
     },
     "execution_count": 28,
     "metadata": {},
     "output_type": "execute_result"
    }
   ],
   "source": [
    "# finding the values missing for drive\n",
    "(autos[cols].query('drive.isna()'))"
   ],
   "metadata": {
    "collapsed": false
   }
  },
  {
   "cell_type": "code",
   "execution_count": 29,
   "outputs": [
    {
     "data": {
      "text/plain": "12093275"
     },
     "execution_count": 29,
     "metadata": {},
     "output_type": "execute_result"
    }
   ],
   "source": [
    "# Correcting - making drive and make (in .astype) to category\n",
    "(autos\n",
    " [cols]\n",
    " .assign(cylinders=autos.cylinders.fillna(0).astype('int8'),\n",
    "         displ=autos.displ.fillna(0).astype('float16'),\n",
    "         drive=autos.drive.fillna('Other').astype('category')\n",
    "         )\n",
    " .astype({'highway08': 'int8', 'city08': 'int16', 'comb08': 'int16', 'fuelCost08': 'int16', 'range': 'int16', 'year': 'int16', 'make': 'category'})\n",
    " .memory_usage(deep=True)\n",
    " .sum()\n",
    " )"
   ],
   "metadata": {
    "collapsed": false
   }
  },
  {
   "cell_type": "code",
   "execution_count": 30,
   "outputs": [
    {
     "data": {
      "text/plain": "Automatic 4-spd                     11047\nManual 5-spd                         8361\nAutomatic 3-spd                      3151\nAutomatic (S6)                       3106\nManual 6-spd                         2757\nAutomatic 5-spd                      2203\nAutomatic (S8)                       1665\nAutomatic 6-spd                      1619\nManual 4-spd                         1483\nAutomatic (S5)                        833\nAutomatic (variable gear ratios)      826\nAutomatic 7-spd                       724\nAutomatic 8-spd                       433\nAutomatic (AM-S7)                     424\nAutomatic (S7)                        327\nAutomatic 9-spd                       293\nAutomatic (AM7)                       245\nAutomatic (S4)                        233\nAutomatic (AV-S6)                     208\nAutomatic (A1)                        201\nAutomatic (AM6)                       151\nAutomatic (AV-S7)                     139\nAutomatic (S10)                       124\nAutomatic (AM-S6)                     116\nManual 7-spd                          114\nAutomatic (S9)                         86\nManual 3-spd                           77\nAutomatic (AM-S8)                      60\nAutomatic (AV-S8)                      47\nAutomatic 10-spd                       25\nManual 4-spd Doubled                   17\nAutomatic (AM5)                        14\nNaN                                    11\nAutomatic (AV-S10)                     11\nAutomatic (AM8)                         6\nAutomatic (AM-S9)                       3\nAutomatic (L3)                          2\nAutomatic (L4)                          2\nName: trany, dtype: int64"
     },
     "execution_count": 30,
     "metadata": {},
     "output_type": "execute_result"
    }
   ],
   "source": [
    "# Inspecting trany\n",
    "# looks like it has two pieces of information embedded in column\n",
    "(autos.trany.value_counts(dropna=False))"
   ],
   "metadata": {
    "collapsed": false
   }
  },
  {
   "cell_type": "code",
   "execution_count": 31,
   "outputs": [
    {
     "data": {
      "text/plain": "10631047"
     },
     "execution_count": 31,
     "metadata": {},
     "output_type": "execute_result"
    }
   ],
   "source": [
    "#\n",
    "(autos\n",
    " [cols]\n",
    " .assign(cylinders=autos.cylinders.fillna(0).astype('int8'),\n",
    "         displ=autos.displ.fillna(0).astype('float16'),\n",
    "         drive=autos.drive.fillna('Other').astype('category'),\n",
    "         automatic=autos.trany.str.contains('Auto'),\n",
    "         speeds=autos.trany.str.extract(r'(\\d)+').fillna('20').astype('int8')\n",
    "         )\n",
    " .astype({'highway08': 'int8', 'city08': 'int16', 'comb08': 'int16', 'fuelCost08': 'int16', 'range': 'int16', 'year': 'int16', 'make': 'category'})\n",
    ".drop(columns=['trany'])\n",
    " .memory_usage(deep=True)\n",
    " .sum()\n",
    " )"
   ],
   "metadata": {
    "collapsed": false
   }
  },
  {
   "cell_type": "code",
   "execution_count": 32,
   "outputs": [
    {
     "name": "stderr",
     "output_type": "stream",
     "text": [
      "/Users/jefersongiovani/miniconda3/lib/python3.9/site-packages/dateutil/parser/_parser.py:1207: UnknownTimezoneWarning: tzname EST identified but not understood.  Pass `tzinfos` argument in order to correctly return a timezone-aware datetime.  In a future version, this will raise an exception.\n",
      "  warnings.warn(\"tzname {tzname} identified but not understood.  \"\n",
      "/Users/jefersongiovani/miniconda3/lib/python3.9/site-packages/dateutil/parser/_parser.py:1207: UnknownTimezoneWarning: tzname EDT identified but not understood.  Pass `tzinfos` argument in order to correctly return a timezone-aware datetime.  In a future version, this will raise an exception.\n",
      "  warnings.warn(\"tzname {tzname} identified but not understood.  \"\n"
     ]
    },
    {
     "data": {
      "text/plain": "7462959"
     },
     "execution_count": 32,
     "metadata": {},
     "output_type": "execute_result"
    }
   ],
   "source": [
    "# Dates - converting the date\n",
    "\n",
    "(autos\n",
    " [cols]\n",
    " .assign(cylinders=autos.cylinders.fillna(0).astype('int8'),\n",
    "         displ=autos.displ.fillna(0).astype('float16'),\n",
    "         drive=autos.drive.fillna('Other').astype('category'),\n",
    "         automatic=autos.trany.str.contains('Auto'),\n",
    "         speeds=autos.trany.str.extract(r'(\\d)+').fillna('20').astype('int8'),\n",
    "         createdOn=pd.to_datetime(autos.createdOn).dt.tz_localize('America/New_York')\n",
    "         )\n",
    " .astype({'highway08': 'int8', 'city08': 'int16', 'comb08': 'int16', 'fuelCost08': 'int16', 'range': 'int16', 'year': 'int16', 'make': 'category'})\n",
    " .drop(columns=['trany'])\n",
    " .memory_usage(deep=True)\n",
    " .sum()\n",
    " )"
   ],
   "metadata": {
    "collapsed": false
   }
  },
  {
   "cell_type": "code",
   "execution_count": 36,
   "outputs": [
    {
     "data": {
      "text/plain": "NaN                                 16153\n(FFS)                                8827\nSIDI                                 5526\n(FFS) CA model                        926\n(FFS)      (MPFI)                     734\nFFV                                   701\n(FFS,TRBO)                            666\n(350 V8) (FFS)                        411\n(GUZZLER)  (FFS)                      366\nSOHC                                  354\n                                    ...  \nB234L/R4 (FFS,TRBO)                     1\nGUZZLER V8 FFS,TURBO                    1\n4.6M FFS MPFI                           1\nCNG FFS                                 1\nPOLICE FFS MPFI                         1\nB308E5 FFS,TURBO                        1\n5.4E-R FFS MPFI                         1\nV-6 FFS                                 1\n(GUZZLER)  (FFS)      (S-CHARGE)        1\nR-ENG (FFS,TRBO)                        1\nName: eng_dscr, Length: 558, dtype: int64"
     },
     "execution_count": 36,
     "metadata": {},
     "output_type": "execute_result"
    }
   ],
   "source": [
    "# Dates - Fixing the date warnings - move to eng_descr\n",
    "\n",
    "(autos\n",
    " [cols]\n",
    " .assign(cylinders=autos.cylinders.fillna(0).astype('int8'),\n",
    "         displ=autos.displ.fillna(0).astype('float16'),\n",
    "         drive=autos.drive.fillna('Other').astype('category'),\n",
    "         automatic=autos.trany.str.contains('Auto'),\n",
    "         speeds=autos.trany.str.extract(r'(\\d)+').fillna('20').astype('int8'),\n",
    "         createdOn=pd.to_datetime(autos.createdOn.replace({' EDT' : '-04:00', ' EST' : '-05:00'}, regex=True), utc=True).dt.tz_convert('America/New_York')\n",
    "         )\n",
    " .astype({'highway08': 'int8', 'city08': 'int16', 'comb08': 'int16', 'fuelCost08': 'int16', 'range': 'int16', 'year': 'int16', 'make': 'category'})\n",
    " .drop(columns=['trany'])\n",
    " .eng_dscr\n",
    " .value_counts(dropna=False)\n",
    " )"
   ],
   "metadata": {
    "collapsed": false
   }
  },
  {
   "cell_type": "code",
   "execution_count": null,
   "outputs": [],
   "source": [
    "# Creating a function that automatises the process\n",
    "\n",
    "def tweak_autos(autos):\n",
    " cols = ['city08', 'comb08', 'highway08', 'cylinders', 'displ', 'drive', 'eng_dscr', 'fuelCost08', 'make', 'model', 'trany', 'range', 'createdOn', 'year']\n",
    " return (autos\n",
    "         [cols]\n",
    "         .assign(cylinders=autos.cylinders.fillna(0).astype('int8'),\n",
    "                 displ=autos.displ.fillna(0).astype('float16'),\n",
    "                 drive=autos.drive.fillna('Other').astype('category'),\n",
    "                 automatic=autos.trany.str.contains('Auto'),\n",
    "                 speeds=autos.trany.str.extract(r'(\\d)+').fillna('20').astype('int8'),\n",
    "                 createdOn=pd.to_datetime(autos.createdOn.replace({' EDT' : '-04:00', ' EST' : '-05:00'}, regex=True), utc=True).dt.tz_convert('America/New_York'),\n",
    "                 ffs=autos.eng_dscr.str.contains('FFS')\n",
    "                 )\n",
    "         .astype({'highway08': 'int8', 'city08': 'int16', 'comb08': 'int16', 'fuelCost08': 'int16', 'range': 'int16', 'year': 'int16', 'make': 'category'})\n",
    "         .drop(columns=['trany', 'eng_dscr'])\n",
    "         )"
   ],
   "metadata": {
    "collapsed": false
   }
  },
  {
   "cell_type": "markdown",
   "source": [
    "Add little scripts"
   ],
   "metadata": {
    "collapsed": false
   }
  },
  {
   "cell_type": "code",
   "execution_count": null,
   "outputs": [],
   "source": [],
   "metadata": {
    "collapsed": false
   }
  }
 ],
 "metadata": {
  "kernelspec": {
   "display_name": "Python 3",
   "language": "python",
   "name": "python3"
  },
  "language_info": {
   "codemirror_mode": {
    "name": "ipython",
    "version": 2
   },
   "file_extension": ".py",
   "mimetype": "text/x-python",
   "name": "python",
   "nbconvert_exporter": "python",
   "pygments_lexer": "ipython2",
   "version": "2.7.6"
  }
 },
 "nbformat": 4,
 "nbformat_minor": 0
}
